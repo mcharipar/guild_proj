{
 "cells": [
  {
   "cell_type": "markdown",
   "id": "4e018d70-ed59-4868-8f52-c5d78041ba25",
   "metadata": {},
   "source": [
    "# Import Dependencies"
   ]
  },
  {
   "cell_type": "code",
   "execution_count": 1,
   "id": "1b93a4c9-acaa-4079-9f3f-7c92e2507c32",
   "metadata": {},
   "outputs": [],
   "source": [
    "import pandas as pd\n",
    "from pathlib import Path\n",
    "import psycopg2\n",
    "from psycopg2 import OperationalError\n",
    "from dotenv import load_dotenv\n",
    "import os\n",
    "from IPython.display import IFrame"
   ]
  },
  {
   "cell_type": "markdown",
   "id": "08545439-2ac8-44ee-8835-53767af9fa4d",
   "metadata": {},
   "source": [
    "## Instructions"
   ]
  },
  {
   "cell_type": "code",
   "execution_count": 2,
   "id": "1f243cf6-b764-40d9-a60d-781e118bec19",
   "metadata": {
    "tags": []
   },
   "outputs": [
    {
     "data": {
      "text/html": [
       "\n",
       "        <iframe\n",
       "            width=\"800\"\n",
       "            height=\"1075\"\n",
       "            src=\"Analytics_Engineer_Candidate_Project.pdf\"\n",
       "            frameborder=\"0\"\n",
       "            allowfullscreen\n",
       "            \n",
       "        ></iframe>\n",
       "        "
      ],
      "text/plain": [
       "<IPython.lib.display.IFrame at 0x1b76475f788>"
      ]
     },
     "execution_count": 2,
     "metadata": {},
     "output_type": "execute_result"
    }
   ],
   "source": [
    "p = Path('Analytics_Engineer_Candidate_Project.pdf')\n",
    "IFrame(p, width=800, height=1075)"
   ]
  },
  {
   "cell_type": "markdown",
   "id": "b64352b8-d3b3-4e2d-ab40-ace695d35c78",
   "metadata": {},
   "source": [
    "### ● Create a quick diagram for how you think these tables (tabs) are related (i.e. what is one to many, many to many, etc.)\n",
    "See here for diagram creation: https://app.gleek.io/diagrams/cFdr3Sx9K712pnUQgTEGsg"
   ]
  },
  {
   "cell_type": "code",
   "execution_count": 3,
   "id": "a88f7081-fced-4db8-b2d9-81414f9fc6a2",
   "metadata": {},
   "outputs": [
    {
     "data": {
      "text/html": [
       "\n",
       "        <iframe\n",
       "            width=\"1350\"\n",
       "            height=\"650\"\n",
       "            src=\"Guild_Education_SQL_ER_Diagram.png\"\n",
       "            frameborder=\"0\"\n",
       "            allowfullscreen\n",
       "            \n",
       "        ></iframe>\n",
       "        "
      ],
      "text/plain": [
       "<IPython.lib.display.IFrame at 0x1b764770508>"
      ]
     },
     "execution_count": 3,
     "metadata": {},
     "output_type": "execute_result"
    }
   ],
   "source": [
    "q = Path('Guild_Education_SQL_ER_Diagram.png')\n",
    "IFrame(q, width=1350, height=650)"
   ]
  },
  {
   "cell_type": "markdown",
   "id": "e3b164d6-d0a3-486d-9ce9-b25c3da2b484",
   "metadata": {},
   "source": [
    "### ● Create a single table to be used for analysis by joining these sources (include your SQL code, and document any issues you may encounter with the data, and any assumptions you make)."
   ]
  },
  {
   "cell_type": "markdown",
   "id": "edc486b7-3c0b-459c-a328-992af1c7bc57",
   "metadata": {},
   "source": [
    "Load Postegres Password from `.env` File\n",
    "\\\n",
    "To download PostgreSQL: https://www.enterprisedb.com/downloads/postgres-postgresql-downloads"
   ]
  },
  {
   "cell_type": "markdown",
   "id": "00a1e24e-725d-4031-9be6-d8cdca66ac4c",
   "metadata": {},
   "source": [
    "Postgres password saved in file `.env`:\n",
    "\\\n",
    "```db_password = 'THE_POSTGRES_PASSWORD_HERE'```"
   ]
  },
  {
   "cell_type": "code",
   "execution_count": 4,
   "id": "8bfd6271-8f00-4836-a987-c7c7677a16cb",
   "metadata": {},
   "outputs": [],
   "source": [
    "load_dotenv()\n",
    "db_password = os.getenv(\"db_password\")"
   ]
  },
  {
   "cell_type": "code",
   "execution_count": 5,
   "id": "8d178407-13eb-4ef0-8e70-13359e328294",
   "metadata": {},
   "outputs": [],
   "source": [
    "# db_password"
   ]
  },
  {
   "cell_type": "code",
   "execution_count": 6,
   "id": "0dba96f9-3787-498c-9766-36c8c12ef7f6",
   "metadata": {},
   "outputs": [],
   "source": [
    "def create_connection(db_name, db_user, db_password, db_host, db_port):\n",
    "    connection = None\n",
    "    try:\n",
    "        connection = psycopg2.connect(\n",
    "            database=db_name,\n",
    "            user=db_user,\n",
    "            password=db_password,\n",
    "            host=db_host,\n",
    "            port=db_port,\n",
    "        )\n",
    "        print(\"Connection to PostgreSQL DB successful\")\n",
    "    except OperationalError as e:\n",
    "        print(f\"The error '{e}' occurred\")\n",
    "    return connection"
   ]
  },
  {
   "cell_type": "code",
   "execution_count": 7,
   "id": "edf68b51-3f72-4bf8-8337-00de7a45fc48",
   "metadata": {},
   "outputs": [
    {
     "name": "stdout",
     "output_type": "stream",
     "text": [
      "Connection to PostgreSQL DB successful\n"
     ]
    }
   ],
   "source": [
    "connection = create_connection(\n",
    "    \"postgres\", \"postgres\", db_password, \"127.0.0.1\", \"5432\"\n",
    ")"
   ]
  },
  {
   "cell_type": "code",
   "execution_count": 8,
   "id": "9d5556ea-a902-49a8-9946-0c7f83b6a194",
   "metadata": {},
   "outputs": [],
   "source": [
    "def create_database(connection, query):\n",
    "    connection.autocommit = True\n",
    "    cursor = connection.cursor()\n",
    "    try:\n",
    "        cursor.execute(query)\n",
    "        print(\"Query executed successfully\")\n",
    "    except OperationalError as e:\n",
    "        print(f\"The error '{e}' occurred\")"
   ]
  },
  {
   "cell_type": "code",
   "execution_count": 9,
   "id": "659e473a-f624-404c-9f36-179a1b266bc6",
   "metadata": {},
   "outputs": [],
   "source": [
    "create_database_query = \"CREATE DATABASE guild_education_sql\" # make sure to use lower case"
   ]
  },
  {
   "cell_type": "code",
   "execution_count": 10,
   "id": "eb68b18a-315b-4ee0-ac30-aa7aaf5d16ef",
   "metadata": {},
   "outputs": [
    {
     "name": "stdout",
     "output_type": "stream",
     "text": [
      "This database already exists.\n"
     ]
    }
   ],
   "source": [
    "try:\n",
    "    create_database(connection, create_database_query)\n",
    "except:\n",
    "    print('This database already exists.')"
   ]
  },
  {
   "cell_type": "code",
   "execution_count": 98,
   "id": "4cac7aa6-ffe5-4549-afd8-2e730459bc06",
   "metadata": {},
   "outputs": [
    {
     "name": "stdout",
     "output_type": "stream",
     "text": [
      "Connection to PostgreSQL DB successful\n"
     ]
    }
   ],
   "source": [
    "connection = create_connection(\n",
    "    \"guild_education_sql\", \"postgres\", db_password, \"127.0.0.1\", \"5432\"\n",
    ")"
   ]
  },
  {
   "cell_type": "code",
   "execution_count": 14,
   "id": "eb634ddc-f3fe-4170-bd10-f0339cb6adce",
   "metadata": {},
   "outputs": [],
   "source": [
    "def execute_query(connection, query):\n",
    "    connection.autocommit = True\n",
    "    cursor = connection.cursor()\n",
    "    try:\n",
    "        cursor.execute(query)\n",
    "        print(\"Query executed successfully\")\n",
    "    except OperationalError as e:\n",
    "        print(f\"The error '{e}' occurred\")"
   ]
  },
  {
   "cell_type": "markdown",
   "id": "85931cdc-134f-4e1e-9755-869b9f2d17c2",
   "metadata": {},
   "source": [
    "#### Create course_details Table"
   ]
  },
  {
   "cell_type": "code",
   "execution_count": 99,
   "id": "0cbb54ac-b2d3-4ff3-830c-b6b8bf741eca",
   "metadata": {},
   "outputs": [],
   "source": [
    "create_course_details_table = \"\"\"\n",
    "CREATE TABLE IF NOT EXISTS course_details (\n",
    "    \"Sf Course C ID\" VARCHAR(18) PRIMARY KEY,\n",
    "    \"Sf Course C Name\" VARCHAR(75),\n",
    "    \"Sf Course C Course Start Date C Date\" VARCHAR(10), \n",
    "    \"Sf Course C Course End Date C Date\" VARCHAR(10),\n",
    "    \"Sf Course C Final Grade C\" VARCHAR(75)\n",
    ")\n",
    "\"\"\""
   ]
  },
  {
   "cell_type": "code",
   "execution_count": 100,
   "id": "69b3a548-7cdc-4668-b6c7-18c576dbf448",
   "metadata": {},
   "outputs": [
    {
     "name": "stdout",
     "output_type": "stream",
     "text": [
      "Query executed successfully\n"
     ]
    }
   ],
   "source": [
    "try:\n",
    "    execute_query(connection, create_course_details_table)\n",
    "except:\n",
    "    print('This table already exists.')"
   ]
  },
  {
   "cell_type": "markdown",
   "id": "5887e918-333f-4fbd-b1b8-7c5ca4fe75ad",
   "metadata": {},
   "source": [
    "Import `.csv` Data Into course_details Table"
   ]
  },
  {
   "cell_type": "code",
   "execution_count": 101,
   "id": "cba185de-7adb-4600-a46e-998acb25113c",
   "metadata": {},
   "outputs": [
    {
     "name": "stdout",
     "output_type": "stream",
     "text": [
      "C:\\Users\\mchar\\Downloads\\Guild_Interview_Project\\data\\Course_Details.csv\n"
     ]
    }
   ],
   "source": [
    "Course_Details = Path(str(Path.cwd()) + '/' + 'data/Course_Details.csv')\n",
    "print(str(Course_Details))"
   ]
  },
  {
   "cell_type": "code",
   "execution_count": 103,
   "id": "cbb11f7d-4075-4b1f-bd38-d883ab3ad99b",
   "metadata": {},
   "outputs": [],
   "source": [
    "import_course_details_data = \"\"\"\n",
    "COPY course_details\n",
    "FROM '{}'\n",
    "DELIMITER ','\n",
    "CSV HEADER;\n",
    "\"\"\".format(str(Course_Details))"
   ]
  },
  {
   "cell_type": "code",
   "execution_count": 105,
   "id": "8eb1dffb-44b5-4f2f-a7ad-d1c0891e00df",
   "metadata": {},
   "outputs": [
    {
     "name": "stdout",
     "output_type": "stream",
     "text": [
      "Query executed successfully\n"
     ]
    }
   ],
   "source": [
    "execute_query(connection, import_course_details_data)\n",
    "# If an error gets thrown change the permissions to 'Everyone' ->'Full control' in properties of the file (if using Windows).\n",
    "# Use chmod if using macOS or Linux distro."
   ]
  },
  {
   "cell_type": "markdown",
   "id": "a44df1fd-9234-4485-b2c1-dc6aa640d593",
   "metadata": {},
   "source": [
    "#### Create opportunity_details Table"
   ]
  },
  {
   "cell_type": "code",
   "execution_count": 135,
   "id": "ce9e0f67-fe82-4ae1-8e7c-6fd6a5ff45ff",
   "metadata": {},
   "outputs": [],
   "source": [
    "create_opportunity_details_table = \"\"\"\n",
    "CREATE TABLE IF NOT EXISTS opportunity_details (\n",
    "    \"Sf Opportunity ID\" VARCHAR(18) PRIMARY KEY,\n",
    "    \"Sf Opportunity Application Type C\" VARCHAR(75),\n",
    "    \"Sf Opportunity Program Category\" VARCHAR(30),\n",
    "    \"Sf Opportunity Program C\" VARCHAR(100)\n",
    ")\n",
    "\"\"\""
   ]
  },
  {
   "cell_type": "code",
   "execution_count": 137,
   "id": "2aceb879-e14f-4bc5-bf57-6ccfab52482e",
   "metadata": {},
   "outputs": [
    {
     "name": "stdout",
     "output_type": "stream",
     "text": [
      "Query executed successfully\n"
     ]
    }
   ],
   "source": [
    "try:\n",
    "    execute_query(connection, create_opportunity_details_table)\n",
    "except:\n",
    "    print('This table already exists.')"
   ]
  },
  {
   "cell_type": "markdown",
   "id": "61d7927a-1e41-4b47-9698-31a5717fb0ec",
   "metadata": {},
   "source": [
    "Import `.csv` Data Into opportunity_details Table"
   ]
  },
  {
   "cell_type": "code",
   "execution_count": 138,
   "id": "e3c20b51-7046-4429-a004-87156cb0f4bc",
   "metadata": {},
   "outputs": [
    {
     "name": "stdout",
     "output_type": "stream",
     "text": [
      "C:\\Users\\mchar\\Downloads\\Guild_Interview_Project\\data\\Opportunity_Details.csv\n"
     ]
    }
   ],
   "source": [
    "Opportunity_Details = Path(str(Path.cwd()) + '/' + 'data/Opportunity_Details.csv')\n",
    "print(str(Opportunity_Details))"
   ]
  },
  {
   "cell_type": "code",
   "execution_count": 139,
   "id": "69c37d55-87be-4fcf-bab2-14f04a213b69",
   "metadata": {},
   "outputs": [],
   "source": [
    "import_opportunity_details_data = \"\"\"\n",
    "COPY opportunity_details\n",
    "FROM '{}'\n",
    "DELIMITER ','\n",
    "CSV HEADER;\n",
    "\"\"\".format(str(Opportunity_Details))"
   ]
  },
  {
   "cell_type": "code",
   "execution_count": 140,
   "id": "1eefee62-ab85-452f-9871-8477b4519d8a",
   "metadata": {},
   "outputs": [
    {
     "name": "stdout",
     "output_type": "stream",
     "text": [
      "Query executed successfully\n"
     ]
    }
   ],
   "source": [
    "execute_query(connection, import_opportunity_details_data)\n",
    "# If an error gets thrown change the permissions to 'Everyone' ->'Full control' in properties of the file (if using Windows).\n",
    "# Use chmod if using macOS or Linux distro."
   ]
  },
  {
   "cell_type": "markdown",
   "id": "919f0dbf-fcbf-4989-94e5-e92636ef53af",
   "metadata": {},
   "source": [
    "#### Create contact_details Table"
   ]
  },
  {
   "cell_type": "code",
   "execution_count": 141,
   "id": "d59d0b1f-f75f-4383-9d35-ec00c6b3f8c0",
   "metadata": {},
   "outputs": [],
   "source": [
    "create_contact_details_table = \"\"\"\n",
    "CREATE TABLE IF NOT EXISTS contact_details (\n",
    "    \"Sf Contact ID\" VARCHAR(18),\n",
    "    \"Sf Opportunity ID\" VARCHAR(18) references opportunity_details(\"Sf Opportunity ID\"),\n",
    "    \"Sf Course C ID\" VARCHAR(18) references course_details(\"Sf Course C ID\")\n",
    ")\n",
    "\"\"\""
   ]
  },
  {
   "cell_type": "code",
   "execution_count": 142,
   "id": "3bcfb83b-5b70-4f23-b8ea-f9d1cd2ec4f0",
   "metadata": {},
   "outputs": [
    {
     "name": "stdout",
     "output_type": "stream",
     "text": [
      "Query executed successfully\n"
     ]
    }
   ],
   "source": [
    "try:\n",
    "    execute_query(connection, create_contact_details_table)\n",
    "except:\n",
    "    print('This table already exists.')"
   ]
  },
  {
   "cell_type": "markdown",
   "id": "ce2a416e-53dc-43ff-ac70-602041d40bf5",
   "metadata": {},
   "source": [
    "Import `.csv` Data Into contact_details Table"
   ]
  },
  {
   "cell_type": "code",
   "execution_count": 143,
   "id": "2c73932c-0cc3-4a6e-aacb-0d9fff6c52df",
   "metadata": {},
   "outputs": [
    {
     "name": "stdout",
     "output_type": "stream",
     "text": [
      "C:\\Users\\mchar\\Downloads\\Guild_Interview_Project\\data\\Contact_Details.csv\n"
     ]
    }
   ],
   "source": [
    "Contact_Details = Path(str(Path.cwd()) + '/' + 'data/Contact_Details.csv')\n",
    "print(str(Contact_Details))"
   ]
  },
  {
   "cell_type": "code",
   "execution_count": 144,
   "id": "f4afe236-32d3-4823-93a0-1d053460ee10",
   "metadata": {},
   "outputs": [],
   "source": [
    "import_contact_details_data = \"\"\"\n",
    "COPY contact_details\n",
    "FROM '{}'\n",
    "DELIMITER ','\n",
    "CSV HEADER;\n",
    "\"\"\".format(str(Contact_Details))"
   ]
  },
  {
   "cell_type": "code",
   "execution_count": 145,
   "id": "723ee06e-18c4-4ff4-9761-7780bf914d1d",
   "metadata": {},
   "outputs": [
    {
     "name": "stdout",
     "output_type": "stream",
     "text": [
      "Query executed successfully\n"
     ]
    }
   ],
   "source": [
    "execute_query(connection, import_contact_details_data)\n",
    "# If an error gets thrown change the permissions to 'Everyone' ->'Full control' in properties of the file (if using Windows).\n",
    "# Use chmod if using macOS or Linux distro."
   ]
  },
  {
   "cell_type": "markdown",
   "id": "9cf2ebf4-aff3-46a8-a191-9d004650f67b",
   "metadata": {},
   "source": [
    "#### Join the Tables Into a Single Table"
   ]
  },
  {
   "cell_type": "code",
   "execution_count": 189,
   "id": "57ae7e5f-1a6d-47f0-bbf3-234117c33a8f",
   "metadata": {},
   "outputs": [],
   "source": [
    "join_query = \"\"\"\n",
    "CREATE TABLE single_table AS\n",
    "SELECT\n",
    "    contact_details.\"Sf Contact ID\",\n",
    "    contact_details.\"Sf Course C ID\",\n",
    "    contact_details.\"Sf Opportunity ID\",\n",
    "    course_details.\"Sf Course C Name\",\n",
    "    course_details.\"Sf Course C Course Start Date C Date\", \n",
    "    course_details.\"Sf Course C Course End Date C Date\",\n",
    "    course_details.\"Sf Course C Final Grade C\",\n",
    "    opportunity_details.\"Sf Opportunity Application Type C\",\n",
    "    opportunity_details.\"Sf Opportunity Program Category\",\n",
    "    opportunity_details.\"Sf Opportunity Program C\"\n",
    "FROM contact_details\n",
    "FULL OUTER JOIN course_details \n",
    "ON contact_details.\"Sf Course C ID\" = course_details.\"Sf Course C ID\"\n",
    "FULL JOIN opportunity_details \n",
    "ON contact_details.\"Sf Opportunity ID\" = opportunity_details.\"Sf Opportunity ID\";\n",
    "\"\"\""
   ]
  },
  {
   "cell_type": "code",
   "execution_count": 190,
   "id": "9d47bdf5-8b19-491a-9491-283aa8028bb1",
   "metadata": {},
   "outputs": [
    {
     "name": "stdout",
     "output_type": "stream",
     "text": [
      "Query executed successfully\n"
     ]
    }
   ],
   "source": [
    "try:\n",
    "    execute_query(connection, join_query)\n",
    "except:\n",
    "    print('This table already exists.')"
   ]
  },
  {
   "cell_type": "markdown",
   "id": "058250a2-6642-40d4-b355-f08222d948da",
   "metadata": {},
   "source": [
    "Verify single_table Creation"
   ]
  },
  {
   "cell_type": "code",
   "execution_count": 154,
   "id": "d46e4ea4-89d8-4e4d-a5ec-37259d407520",
   "metadata": {},
   "outputs": [],
   "source": [
    "def execute_read_query(connection, query):\n",
    "    cursor = connection.cursor()\n",
    "    result = None\n",
    "    try:\n",
    "        cursor.execute(query)\n",
    "        result = cursor.fetchall()\n",
    "        return result\n",
    "    except OperationalError as e:\n",
    "        print(f\"The error '{e}' occurred\")"
   ]
  },
  {
   "cell_type": "code",
   "execution_count": 191,
   "id": "e02b56d6-0f46-4af2-9bec-ba177db9d860",
   "metadata": {},
   "outputs": [],
   "source": [
    "select_single_table = \"\"\"\n",
    "SELECT * FROM single_table\n",
    "\"\"\""
   ]
  },
  {
   "cell_type": "code",
   "execution_count": 192,
   "id": "0d893680-2b88-454a-82e0-a12743410ddb",
   "metadata": {},
   "outputs": [],
   "source": [
    "this_query = execute_read_query(connection, select_single_table)"
   ]
  },
  {
   "cell_type": "code",
   "execution_count": 193,
   "id": "cb74cf90-91df-48a3-972d-fd59292acdd6",
   "metadata": {},
   "outputs": [
    {
     "name": "stdout",
     "output_type": "stream",
     "text": [
      "('0033600000q4ADOAA2', None, '00636000005dxASAAY', None, None, None, None, 'Guild Education', 'Lead Gen - Post Secondary', 'Giving and Receiving Feedback')\n",
      "('0033600000BMcisAAD', None, '00636000005eG7BAAU', None, None, None, None, 'Western Governors University', 'University', 'B.A. in Interdisciplinary Studies (K-8)')\n",
      "('00336000009m01JAAQ', None, '00636000005eGPxAAM', None, None, None, None, 'Western Governors University', 'University', 'B.A. in Interdisciplinary Studies (K-8)')\n",
      "('0033600000BOI13AAH', None, '00636000005eNIpAAM', None, None, None, None, 'Western Governors University', 'University', 'B.A. in Interdisciplinary Studies (K-8)')\n",
      "('0033600000BNSXNAA5', None, '00636000005eOcBAAU', None, None, None, None, 'Western Governors University', 'University', 'B.A. in Interdisciplinary Studies (K-8)')\n",
      "('0033600000BYnWzAAL', None, '00636000005eZYRAA2', None, None, None, None, 'Western Governors University', 'University', 'B.A. in Interdisciplinary Studies (K-8)')\n",
      "('0033600000BYnXdAAL', None, '00636000005eZZcAAM', None, None, None, None, 'Western Governors University', 'University', 'B.A. in Interdisciplinary Studies (K-8)')\n",
      "('0033600000BZ63EAAT', None, '00636000005ecshAAA', None, None, None, None, 'Western Governors University', 'University', 'B.A. in Interdisciplinary Studies (K-8)')\n",
      "('0033600000q4AGNAA2', None, '00636000005elT6AAI', None, None, None, None, 'Western Governors University', 'University', 'B.A. in Interdisciplinary Studies (K-8)')\n",
      "('00336000009lzv6AAA', None, '00636000005elTQAAY', None, None, None, None, 'Western Governors University', 'University', 'B.A. in Interdisciplinary Studies (K-8)')\n"
     ]
    }
   ],
   "source": [
    "incrementor = 0\n",
    "while incrementor < 10:\n",
    "    print(this_query[incrementor])\n",
    "    incrementor += 1"
   ]
  },
  {
   "cell_type": "markdown",
   "id": "ae82336b-a065-41f9-a8ea-8a687b91c005",
   "metadata": {},
   "source": [
    "## Use your table to pull the following information (provide 1 query per question and your corresponding answer). Please state any of your assumptions. SQL is required"
   ]
  },
  {
   "cell_type": "markdown",
   "id": "1b489a8f-a381-4479-a774-c8080fd3a3db",
   "metadata": {},
   "source": [
    "### ● Total number of contacts (students) who are not enrolled in any courses."
   ]
  },
  {
   "cell_type": "code",
   "execution_count": 228,
   "id": "6f90570a-a020-487b-8098-16659bd59248",
   "metadata": {},
   "outputs": [],
   "source": [
    "# Assuming that 'enrolled' means 'at any time' in a course(s).\n",
    "\n",
    "students_not_enrolled = \"\"\"\n",
    "SELECT COUNT(DISTINCT(single_table.\"Sf Contact ID\"))\n",
    "FROM single_table\n",
    "WHERE single_table.\"Sf Course C ID\" IS NULL;\n",
    "\"\"\""
   ]
  },
  {
   "cell_type": "code",
   "execution_count": 229,
   "id": "ccc05819-7a80-4288-954b-dd2c9d0a1f18",
   "metadata": {},
   "outputs": [
    {
     "data": {
      "text/plain": [
       "[(18502,)]"
      ]
     },
     "execution_count": 229,
     "metadata": {},
     "output_type": "execute_result"
    }
   ],
   "source": [
    "query_1 = execute_read_query(connection, students_not_enrolled)\n",
    "query_1"
   ]
  },
  {
   "cell_type": "code",
   "execution_count": 232,
   "id": "6bc21f2c-5436-44cc-bfa6-c38f619c2e92",
   "metadata": {},
   "outputs": [],
   "source": [
    "# If it is are not 'currently' enrolled in any courses.\n",
    "# students_not_enrolled_alt = \"\"\"\n",
    "# SELECT COUNT(DISTINCT(single_table.\"Sf Contact ID\"))\n",
    "# FROM single_table\n",
    "# WHERE single_table.\"Sf Course C Final Grade C\" IS NULL \n",
    "# \"\"\""
   ]
  },
  {
   "cell_type": "code",
   "execution_count": 233,
   "id": "38e313ba-8ca6-457b-ab11-b500c66e40b9",
   "metadata": {},
   "outputs": [
    {
     "data": {
      "text/plain": [
       "[(18504,)]"
      ]
     },
     "execution_count": 233,
     "metadata": {},
     "output_type": "execute_result"
    }
   ],
   "source": [
    "# query_1_1 = execute_read_query(connection, students_not_enrolled_alt)\n",
    "# query_1_1"
   ]
  },
  {
   "cell_type": "markdown",
   "id": "929fbf3b-5dcf-4432-9edb-2f70a21adfbc",
   "metadata": {
    "tags": []
   },
   "source": [
    "### ● For each program category count the number of distinct contacts (students) that are enrolled in courses."
   ]
  },
  {
   "cell_type": "code",
   "execution_count": 222,
   "id": "fbf40617-aab3-459e-86a8-f6a7994d6433",
   "metadata": {},
   "outputs": [],
   "source": [
    "program_category_enrollment = \"\"\"\n",
    "SELECT single_table.\"Sf Opportunity Program Category\", COUNT(DISTINCT(single_table.\"Sf Contact ID\"))\n",
    "FROM single_table\n",
    "GROUP BY single_table.\"Sf Opportunity Program Category\";\n",
    "\"\"\""
   ]
  },
  {
   "cell_type": "code",
   "execution_count": 227,
   "id": "61907282-a777-47ae-9af6-eedc4372c00d",
   "metadata": {},
   "outputs": [
    {
     "data": {
      "text/plain": [
       "[('Credential', 304),\n",
       " ('ELL Program', 183),\n",
       " ('Lead Gen - Post Secondary', 541),\n",
       " ('Lead Gen - Secondary', 689),\n",
       " ('StraighterLine/Saylor', 173),\n",
       " ('University', 1765),\n",
       " (None, 15151)]"
      ]
     },
     "execution_count": 227,
     "metadata": {},
     "output_type": "execute_result"
    }
   ],
   "source": [
    "query_2 = execute_read_query(connection, program_category_enrollment)\n",
    "query_2"
   ]
  },
  {
   "cell_type": "markdown",
   "id": "faae5d7d-aef5-4967-97a5-8866c18d6278",
   "metadata": {},
   "source": [
    "### ● Based on your best interpretation of the data, which application type has the most number of successful students?"
   ]
  },
  {
   "cell_type": "code",
   "execution_count": 234,
   "id": "1b9adc67-038f-45bb-8cb6-9bcaff74387d",
   "metadata": {},
   "outputs": [],
   "source": [
    "most_successful_app = \"\"\"\n",
    "SELECT\n",
    "    single_table.\"Sf Opportunity Application Type C\",\n",
    "    COUNT(DISTINCT(single_table.\"Sf Contact ID\"))\n",
    "FROM single_table\n",
    "WHERE single_table.\"Sf Course C Final Grade C\" \n",
    "IN ('Passed', 'C-', 'C', 'C+', 'B-', 'B', 'B+', 'A-', 'A', 'A+')\n",
    "GROUP BY single_table.\"Sf Opportunity Application Type C\";\n",
    "\"\"\""
   ]
  },
  {
   "cell_type": "code",
   "execution_count": 235,
   "id": "cb27e840-b472-4b2f-a00f-9b06a7528bd3",
   "metadata": {},
   "outputs": [
    {
     "data": {
      "text/plain": [
       "[('Bellevue University', 130),\n",
       " ('Brandman University', 71),\n",
       " ('Colorado State University-Global', 65),\n",
       " ('Guild Education', 470),\n",
       " ('Penn Foster High School', 87),\n",
       " ('StraighterLine', 35),\n",
       " ('University of Denver', 3),\n",
       " ('Western Governors University', 39),\n",
       " ('Wilmington University', 44)]"
      ]
     },
     "execution_count": 235,
     "metadata": {},
     "output_type": "execute_result"
    }
   ],
   "source": [
    "query_3 = execute_read_query(connection, most_successful_app)\n",
    "query_3"
   ]
  },
  {
   "cell_type": "markdown",
   "id": "2d1b3a49-83ab-453d-905b-5e8188be7ae8",
   "metadata": {},
   "source": [
    "#### Guild Education greatly has the most number of successful students."
   ]
  },
  {
   "cell_type": "markdown",
   "id": "be734a02-83d9-4acb-904c-8877dc94652c",
   "metadata": {},
   "source": [
    "### ● What ideas do you have, if any, to better structure the data?"
   ]
  },
  {
   "cell_type": "markdown",
   "id": "ea4a940b-b446-4499-9710-877ca0536131",
   "metadata": {},
   "source": [
    "#### \"Sf Course C Final Grade C\" could be numerically encoded. This may make it easier to determine metics such as \"GPA\"."
   ]
  },
  {
   "cell_type": "markdown",
   "id": "3a6f9d58-cd96-413b-aef0-4948c04281e4",
   "metadata": {
    "tags": []
   },
   "source": [
    "# Pandas Check"
   ]
  },
  {
   "cell_type": "code",
   "execution_count": 8,
   "id": "21a9ca08-a74b-43ff-a306-1c1b92aa7800",
   "metadata": {},
   "outputs": [],
   "source": [
    "p0 = Path('data\\Contact_Details.csv')\n",
    "p1 = Path('data\\Course_Details.csv')\n",
    "p2 = Path('data\\Opportunity_Details.csv')"
   ]
  },
  {
   "cell_type": "code",
   "execution_count": 9,
   "id": "3f407433-b187-430f-8947-8af4eef8e25c",
   "metadata": {},
   "outputs": [],
   "source": [
    "df_Contact_Details = pd.read_csv (p0)\n",
    "df_Course_Details = pd.read_csv (p1)\n",
    "df_Opportunity_Details = pd.read_csv (p2)"
   ]
  },
  {
   "cell_type": "code",
   "execution_count": 10,
   "id": "0f8195a3-eb23-49a7-be8f-dc43cef98594",
   "metadata": {},
   "outputs": [
    {
     "data": {
      "text/html": [
       "<div>\n",
       "<style scoped>\n",
       "    .dataframe tbody tr th:only-of-type {\n",
       "        vertical-align: middle;\n",
       "    }\n",
       "\n",
       "    .dataframe tbody tr th {\n",
       "        vertical-align: top;\n",
       "    }\n",
       "\n",
       "    .dataframe thead th {\n",
       "        text-align: right;\n",
       "    }\n",
       "</style>\n",
       "<table border=\"1\" class=\"dataframe\">\n",
       "  <thead>\n",
       "    <tr style=\"text-align: right;\">\n",
       "      <th></th>\n",
       "      <th>Sf Contact ID</th>\n",
       "      <th>Sf Opportunity ID</th>\n",
       "      <th>Sf Course C ID</th>\n",
       "    </tr>\n",
       "  </thead>\n",
       "  <tbody>\n",
       "    <tr>\n",
       "      <th>0</th>\n",
       "      <td>0033600000q4ADOAA2</td>\n",
       "      <td>00636000005dxASAAY</td>\n",
       "      <td>NaN</td>\n",
       "    </tr>\n",
       "    <tr>\n",
       "      <th>1</th>\n",
       "      <td>0033600000BMcisAAD</td>\n",
       "      <td>00636000005eG7BAAU</td>\n",
       "      <td>NaN</td>\n",
       "    </tr>\n",
       "    <tr>\n",
       "      <th>2</th>\n",
       "      <td>00336000009m01JAAQ</td>\n",
       "      <td>00636000005eGPxAAM</td>\n",
       "      <td>NaN</td>\n",
       "    </tr>\n",
       "    <tr>\n",
       "      <th>3</th>\n",
       "      <td>0033600000BOI13AAH</td>\n",
       "      <td>00636000005eNIpAAM</td>\n",
       "      <td>NaN</td>\n",
       "    </tr>\n",
       "    <tr>\n",
       "      <th>4</th>\n",
       "      <td>0033600000BNSXNAA5</td>\n",
       "      <td>00636000005eOcBAAU</td>\n",
       "      <td>NaN</td>\n",
       "    </tr>\n",
       "    <tr>\n",
       "      <th>...</th>\n",
       "      <td>...</td>\n",
       "      <td>...</td>\n",
       "      <td>...</td>\n",
       "    </tr>\n",
       "    <tr>\n",
       "      <th>27024</th>\n",
       "      <td>0033600001WRdHtAAL</td>\n",
       "      <td>NaN</td>\n",
       "      <td>NaN</td>\n",
       "    </tr>\n",
       "    <tr>\n",
       "      <th>27025</th>\n",
       "      <td>0033600001WStcKAAT</td>\n",
       "      <td>NaN</td>\n",
       "      <td>NaN</td>\n",
       "    </tr>\n",
       "    <tr>\n",
       "      <th>27026</th>\n",
       "      <td>0033600001WUOAMAA5</td>\n",
       "      <td>NaN</td>\n",
       "      <td>NaN</td>\n",
       "    </tr>\n",
       "    <tr>\n",
       "      <th>27027</th>\n",
       "      <td>0033600001at9GLAAY</td>\n",
       "      <td>NaN</td>\n",
       "      <td>NaN</td>\n",
       "    </tr>\n",
       "    <tr>\n",
       "      <th>27028</th>\n",
       "      <td>0033600001e029bAAA</td>\n",
       "      <td>NaN</td>\n",
       "      <td>NaN</td>\n",
       "    </tr>\n",
       "  </tbody>\n",
       "</table>\n",
       "<p>27029 rows × 3 columns</p>\n",
       "</div>"
      ],
      "text/plain": [
       "            Sf Contact ID   Sf Opportunity ID Sf Course C ID\n",
       "0      0033600000q4ADOAA2  00636000005dxASAAY            NaN\n",
       "1      0033600000BMcisAAD  00636000005eG7BAAU            NaN\n",
       "2      00336000009m01JAAQ  00636000005eGPxAAM            NaN\n",
       "3      0033600000BOI13AAH  00636000005eNIpAAM            NaN\n",
       "4      0033600000BNSXNAA5  00636000005eOcBAAU            NaN\n",
       "...                   ...                 ...            ...\n",
       "27024  0033600001WRdHtAAL                 NaN            NaN\n",
       "27025  0033600001WStcKAAT                 NaN            NaN\n",
       "27026  0033600001WUOAMAA5                 NaN            NaN\n",
       "27027  0033600001at9GLAAY                 NaN            NaN\n",
       "27028  0033600001e029bAAA                 NaN            NaN\n",
       "\n",
       "[27029 rows x 3 columns]"
      ]
     },
     "execution_count": 10,
     "metadata": {},
     "output_type": "execute_result"
    }
   ],
   "source": [
    "df_Contact_Details"
   ]
  },
  {
   "cell_type": "code",
   "execution_count": 70,
   "id": "a62a1627-ecee-4622-a033-dc3794aa91b9",
   "metadata": {},
   "outputs": [
    {
     "data": {
      "text/html": [
       "<div>\n",
       "<style scoped>\n",
       "    .dataframe tbody tr th:only-of-type {\n",
       "        vertical-align: middle;\n",
       "    }\n",
       "\n",
       "    .dataframe tbody tr th {\n",
       "        vertical-align: top;\n",
       "    }\n",
       "\n",
       "    .dataframe thead th {\n",
       "        text-align: right;\n",
       "    }\n",
       "</style>\n",
       "<table border=\"1\" class=\"dataframe\">\n",
       "  <thead>\n",
       "    <tr style=\"text-align: right;\">\n",
       "      <th></th>\n",
       "      <th>Sf Contact ID</th>\n",
       "      <th>Sf Opportunity ID</th>\n",
       "      <th>Sf Course C ID</th>\n",
       "    </tr>\n",
       "  </thead>\n",
       "  <tbody>\n",
       "    <tr>\n",
       "      <th>count</th>\n",
       "      <td>27029</td>\n",
       "      <td>11878</td>\n",
       "      <td>7572</td>\n",
       "    </tr>\n",
       "    <tr>\n",
       "      <th>unique</th>\n",
       "      <td>18504</td>\n",
       "      <td>6968</td>\n",
       "      <td>7572</td>\n",
       "    </tr>\n",
       "    <tr>\n",
       "      <th>top</th>\n",
       "      <td>0033600000VDyNSAA1</td>\n",
       "      <td>0063600000IfR5bAAF</td>\n",
       "      <td>a1C36000007TGoGEAW</td>\n",
       "    </tr>\n",
       "    <tr>\n",
       "      <th>freq</th>\n",
       "      <td>46</td>\n",
       "      <td>43</td>\n",
       "      <td>1</td>\n",
       "    </tr>\n",
       "  </tbody>\n",
       "</table>\n",
       "</div>"
      ],
      "text/plain": [
       "             Sf Contact ID   Sf Opportunity ID      Sf Course C ID\n",
       "count                27029               11878                7572\n",
       "unique               18504                6968                7572\n",
       "top     0033600000VDyNSAA1  0063600000IfR5bAAF  a1C36000007TGoGEAW\n",
       "freq                    46                  43                   1"
      ]
     },
     "execution_count": 70,
     "metadata": {},
     "output_type": "execute_result"
    }
   ],
   "source": [
    "df_Contact_Details.describe()"
   ]
  },
  {
   "cell_type": "code",
   "execution_count": 73,
   "id": "1bc64a25-0d99-4988-89e4-713d5bd82eff",
   "metadata": {},
   "outputs": [
    {
     "data": {
      "text/html": [
       "<div>\n",
       "<style scoped>\n",
       "    .dataframe tbody tr th:only-of-type {\n",
       "        vertical-align: middle;\n",
       "    }\n",
       "\n",
       "    .dataframe tbody tr th {\n",
       "        vertical-align: top;\n",
       "    }\n",
       "\n",
       "    .dataframe thead th {\n",
       "        text-align: right;\n",
       "    }\n",
       "</style>\n",
       "<table border=\"1\" class=\"dataframe\">\n",
       "  <thead>\n",
       "    <tr style=\"text-align: right;\">\n",
       "      <th></th>\n",
       "      <th>null</th>\n",
       "    </tr>\n",
       "  </thead>\n",
       "  <tbody>\n",
       "    <tr>\n",
       "      <th>Sf Contact ID</th>\n",
       "      <td>0</td>\n",
       "    </tr>\n",
       "    <tr>\n",
       "      <th>Sf Opportunity ID</th>\n",
       "      <td>15151</td>\n",
       "    </tr>\n",
       "    <tr>\n",
       "      <th>Sf Course C ID</th>\n",
       "      <td>19457</td>\n",
       "    </tr>\n",
       "  </tbody>\n",
       "</table>\n",
       "</div>"
      ],
      "text/plain": [
       "                    null\n",
       "Sf Contact ID          0\n",
       "Sf Opportunity ID  15151\n",
       "Sf Course C ID     19457"
      ]
     },
     "execution_count": 73,
     "metadata": {},
     "output_type": "execute_result"
    }
   ],
   "source": [
    "null_df = pd.DataFrame({'null' : df_Contact_Details.isnull().sum()})\n",
    "null_df"
   ]
  },
  {
   "cell_type": "code",
   "execution_count": null,
   "id": "685fe9ff-8632-4b5b-9084-3429e3654246",
   "metadata": {},
   "outputs": [],
   "source": []
  },
  {
   "cell_type": "code",
   "execution_count": 11,
   "id": "57e3e48a-1853-4fea-a276-9cc918eaab76",
   "metadata": {},
   "outputs": [
    {
     "data": {
      "text/html": [
       "<div>\n",
       "<style scoped>\n",
       "    .dataframe tbody tr th:only-of-type {\n",
       "        vertical-align: middle;\n",
       "    }\n",
       "\n",
       "    .dataframe tbody tr th {\n",
       "        vertical-align: top;\n",
       "    }\n",
       "\n",
       "    .dataframe thead th {\n",
       "        text-align: right;\n",
       "    }\n",
       "</style>\n",
       "<table border=\"1\" class=\"dataframe\">\n",
       "  <thead>\n",
       "    <tr style=\"text-align: right;\">\n",
       "      <th></th>\n",
       "      <th>Sf Course C ID</th>\n",
       "      <th>Sf Course C Name</th>\n",
       "      <th>Sf Course C Course Start Date C Date</th>\n",
       "      <th>Sf Course C Course End Date C Date</th>\n",
       "      <th>Sf Course C Final Grade C</th>\n",
       "    </tr>\n",
       "  </thead>\n",
       "  <tbody>\n",
       "    <tr>\n",
       "      <th>0</th>\n",
       "      <td>a1C36000009t3tGEAQ</td>\n",
       "      <td>High School Completion Program</td>\n",
       "      <td>NaN</td>\n",
       "      <td>NaN</td>\n",
       "      <td>NaN</td>\n",
       "    </tr>\n",
       "    <tr>\n",
       "      <th>1</th>\n",
       "      <td>a1C36000009eJkMEAU</td>\n",
       "      <td>Management Training Program - 16 Week</td>\n",
       "      <td>NaN</td>\n",
       "      <td>NaN</td>\n",
       "      <td>NaN</td>\n",
       "    </tr>\n",
       "    <tr>\n",
       "      <th>2</th>\n",
       "      <td>a1C36000009u2k9EAA</td>\n",
       "      <td>High School Completion Program</td>\n",
       "      <td>NaN</td>\n",
       "      <td>NaN</td>\n",
       "      <td>NaN</td>\n",
       "    </tr>\n",
       "    <tr>\n",
       "      <th>3</th>\n",
       "      <td>a1C36000009fIoUEAU</td>\n",
       "      <td>High School Completion Program</td>\n",
       "      <td>NaN</td>\n",
       "      <td>NaN</td>\n",
       "      <td>NaN</td>\n",
       "    </tr>\n",
       "    <tr>\n",
       "      <th>4</th>\n",
       "      <td>a1C36000005okzZEAQ</td>\n",
       "      <td>Management Training Program - 16 Week</td>\n",
       "      <td>NaN</td>\n",
       "      <td>NaN</td>\n",
       "      <td>NaN</td>\n",
       "    </tr>\n",
       "    <tr>\n",
       "      <th>...</th>\n",
       "      <td>...</td>\n",
       "      <td>...</td>\n",
       "      <td>...</td>\n",
       "      <td>...</td>\n",
       "      <td>...</td>\n",
       "    </tr>\n",
       "    <tr>\n",
       "      <th>7567</th>\n",
       "      <td>a1C36000005omBXEAY</td>\n",
       "      <td>Organizational Behavior</td>\n",
       "      <td>11/19/2001</td>\n",
       "      <td>1/13/2002</td>\n",
       "      <td>A</td>\n",
       "    </tr>\n",
       "    <tr>\n",
       "      <th>7568</th>\n",
       "      <td>a1C36000005omCfEAI</td>\n",
       "      <td>Introduction to Research</td>\n",
       "      <td>11/19/2001</td>\n",
       "      <td>1/13/2002</td>\n",
       "      <td>A</td>\n",
       "    </tr>\n",
       "    <tr>\n",
       "      <th>7569</th>\n",
       "      <td>a1C36000005omBsEAI</td>\n",
       "      <td>Developing Management Skills</td>\n",
       "      <td>8/27/2001</td>\n",
       "      <td>11/18/2001</td>\n",
       "      <td>A</td>\n",
       "    </tr>\n",
       "    <tr>\n",
       "      <th>7570</th>\n",
       "      <td>a1C36000005omC1EAI</td>\n",
       "      <td>Business Information Systems</td>\n",
       "      <td>8/27/2001</td>\n",
       "      <td>11/18/2001</td>\n",
       "      <td>A</td>\n",
       "    </tr>\n",
       "    <tr>\n",
       "      <th>7571</th>\n",
       "      <td>a1C36000005omC6EAI</td>\n",
       "      <td>Essentials of Management</td>\n",
       "      <td>8/27/2001</td>\n",
       "      <td>11/18/2001</td>\n",
       "      <td>A</td>\n",
       "    </tr>\n",
       "  </tbody>\n",
       "</table>\n",
       "<p>7572 rows × 5 columns</p>\n",
       "</div>"
      ],
      "text/plain": [
       "          Sf Course C ID                       Sf Course C Name  \\\n",
       "0     a1C36000009t3tGEAQ         High School Completion Program   \n",
       "1     a1C36000009eJkMEAU  Management Training Program - 16 Week   \n",
       "2     a1C36000009u2k9EAA         High School Completion Program   \n",
       "3     a1C36000009fIoUEAU         High School Completion Program   \n",
       "4     a1C36000005okzZEAQ  Management Training Program - 16 Week   \n",
       "...                  ...                                    ...   \n",
       "7567  a1C36000005omBXEAY                Organizational Behavior   \n",
       "7568  a1C36000005omCfEAI               Introduction to Research   \n",
       "7569  a1C36000005omBsEAI           Developing Management Skills   \n",
       "7570  a1C36000005omC1EAI           Business Information Systems   \n",
       "7571  a1C36000005omC6EAI               Essentials of Management   \n",
       "\n",
       "     Sf Course C Course Start Date C Date Sf Course C Course End Date C Date  \\\n",
       "0                                     NaN                                NaN   \n",
       "1                                     NaN                                NaN   \n",
       "2                                     NaN                                NaN   \n",
       "3                                     NaN                                NaN   \n",
       "4                                     NaN                                NaN   \n",
       "...                                   ...                                ...   \n",
       "7567                           11/19/2001                          1/13/2002   \n",
       "7568                           11/19/2001                          1/13/2002   \n",
       "7569                            8/27/2001                         11/18/2001   \n",
       "7570                            8/27/2001                         11/18/2001   \n",
       "7571                            8/27/2001                         11/18/2001   \n",
       "\n",
       "     Sf Course C Final Grade C  \n",
       "0                          NaN  \n",
       "1                          NaN  \n",
       "2                          NaN  \n",
       "3                          NaN  \n",
       "4                          NaN  \n",
       "...                        ...  \n",
       "7567                         A  \n",
       "7568                         A  \n",
       "7569                         A  \n",
       "7570                         A  \n",
       "7571                         A  \n",
       "\n",
       "[7572 rows x 5 columns]"
      ]
     },
     "execution_count": 11,
     "metadata": {},
     "output_type": "execute_result"
    }
   ],
   "source": [
    "df_Course_Details"
   ]
  },
  {
   "cell_type": "code",
   "execution_count": 74,
   "id": "de01605f-5fa9-4e22-8840-cdf7ad6f35a1",
   "metadata": {},
   "outputs": [
    {
     "data": {
      "text/html": [
       "<div>\n",
       "<style scoped>\n",
       "    .dataframe tbody tr th:only-of-type {\n",
       "        vertical-align: middle;\n",
       "    }\n",
       "\n",
       "    .dataframe tbody tr th {\n",
       "        vertical-align: top;\n",
       "    }\n",
       "\n",
       "    .dataframe thead th {\n",
       "        text-align: right;\n",
       "    }\n",
       "</style>\n",
       "<table border=\"1\" class=\"dataframe\">\n",
       "  <thead>\n",
       "    <tr style=\"text-align: right;\">\n",
       "      <th></th>\n",
       "      <th>Sf Course C ID</th>\n",
       "      <th>Sf Course C Name</th>\n",
       "      <th>Sf Course C Course Start Date C Date</th>\n",
       "      <th>Sf Course C Course End Date C Date</th>\n",
       "      <th>Sf Course C Final Grade C</th>\n",
       "    </tr>\n",
       "  </thead>\n",
       "  <tbody>\n",
       "    <tr>\n",
       "      <th>count</th>\n",
       "      <td>7572</td>\n",
       "      <td>7572</td>\n",
       "      <td>7563</td>\n",
       "      <td>7539</td>\n",
       "      <td>2736</td>\n",
       "    </tr>\n",
       "    <tr>\n",
       "      <th>unique</th>\n",
       "      <td>7572</td>\n",
       "      <td>879</td>\n",
       "      <td>417</td>\n",
       "      <td>519</td>\n",
       "      <td>24</td>\n",
       "    </tr>\n",
       "    <tr>\n",
       "      <th>top</th>\n",
       "      <td>a1C36000007TGoGEAW</td>\n",
       "      <td>High School Completion Program</td>\n",
       "      <td>3/12/2018</td>\n",
       "      <td>5/6/2018</td>\n",
       "      <td>A</td>\n",
       "    </tr>\n",
       "    <tr>\n",
       "      <th>freq</th>\n",
       "      <td>1</td>\n",
       "      <td>528</td>\n",
       "      <td>523</td>\n",
       "      <td>311</td>\n",
       "      <td>664</td>\n",
       "    </tr>\n",
       "  </tbody>\n",
       "</table>\n",
       "</div>"
      ],
      "text/plain": [
       "            Sf Course C ID                Sf Course C Name  \\\n",
       "count                 7572                            7572   \n",
       "unique                7572                             879   \n",
       "top     a1C36000007TGoGEAW  High School Completion Program   \n",
       "freq                     1                             528   \n",
       "\n",
       "       Sf Course C Course Start Date C Date  \\\n",
       "count                                  7563   \n",
       "unique                                  417   \n",
       "top                               3/12/2018   \n",
       "freq                                    523   \n",
       "\n",
       "       Sf Course C Course End Date C Date Sf Course C Final Grade C  \n",
       "count                                7539                      2736  \n",
       "unique                                519                        24  \n",
       "top                              5/6/2018                         A  \n",
       "freq                                  311                       664  "
      ]
     },
     "execution_count": 74,
     "metadata": {},
     "output_type": "execute_result"
    }
   ],
   "source": [
    "df_Course_Details.describe()"
   ]
  },
  {
   "cell_type": "code",
   "execution_count": 75,
   "id": "b742223b-f6e5-4a5c-9ce8-d121fdc68829",
   "metadata": {},
   "outputs": [
    {
     "data": {
      "text/html": [
       "<div>\n",
       "<style scoped>\n",
       "    .dataframe tbody tr th:only-of-type {\n",
       "        vertical-align: middle;\n",
       "    }\n",
       "\n",
       "    .dataframe tbody tr th {\n",
       "        vertical-align: top;\n",
       "    }\n",
       "\n",
       "    .dataframe thead th {\n",
       "        text-align: right;\n",
       "    }\n",
       "</style>\n",
       "<table border=\"1\" class=\"dataframe\">\n",
       "  <thead>\n",
       "    <tr style=\"text-align: right;\">\n",
       "      <th></th>\n",
       "      <th>null</th>\n",
       "    </tr>\n",
       "  </thead>\n",
       "  <tbody>\n",
       "    <tr>\n",
       "      <th>Sf Course C ID</th>\n",
       "      <td>0</td>\n",
       "    </tr>\n",
       "    <tr>\n",
       "      <th>Sf Course C Name</th>\n",
       "      <td>0</td>\n",
       "    </tr>\n",
       "    <tr>\n",
       "      <th>Sf Course C Course Start Date C Date</th>\n",
       "      <td>9</td>\n",
       "    </tr>\n",
       "    <tr>\n",
       "      <th>Sf Course C Course End Date C Date</th>\n",
       "      <td>33</td>\n",
       "    </tr>\n",
       "    <tr>\n",
       "      <th>Sf Course C Final Grade C</th>\n",
       "      <td>4836</td>\n",
       "    </tr>\n",
       "  </tbody>\n",
       "</table>\n",
       "</div>"
      ],
      "text/plain": [
       "                                      null\n",
       "Sf Course C ID                           0\n",
       "Sf Course C Name                         0\n",
       "Sf Course C Course Start Date C Date     9\n",
       "Sf Course C Course End Date C Date      33\n",
       "Sf Course C Final Grade C             4836"
      ]
     },
     "execution_count": 75,
     "metadata": {},
     "output_type": "execute_result"
    }
   ],
   "source": [
    "null_df = pd.DataFrame({'null' : df_Course_Details.isnull().sum()})\n",
    "null_df"
   ]
  },
  {
   "cell_type": "code",
   "execution_count": 12,
   "id": "b7b139c6-e46f-432d-8370-c0427db1ddf4",
   "metadata": {},
   "outputs": [
    {
     "data": {
      "text/html": [
       "<div>\n",
       "<style scoped>\n",
       "    .dataframe tbody tr th:only-of-type {\n",
       "        vertical-align: middle;\n",
       "    }\n",
       "\n",
       "    .dataframe tbody tr th {\n",
       "        vertical-align: top;\n",
       "    }\n",
       "\n",
       "    .dataframe thead th {\n",
       "        text-align: right;\n",
       "    }\n",
       "</style>\n",
       "<table border=\"1\" class=\"dataframe\">\n",
       "  <thead>\n",
       "    <tr style=\"text-align: right;\">\n",
       "      <th></th>\n",
       "      <th>Sf Opportunity ID</th>\n",
       "      <th>Sf Opportunity Application Type C</th>\n",
       "      <th>Sf Opportunity Program Category</th>\n",
       "      <th>Sf Opportunity Program C</th>\n",
       "    </tr>\n",
       "  </thead>\n",
       "  <tbody>\n",
       "    <tr>\n",
       "      <th>0</th>\n",
       "      <td>00636000005dxASAAY</td>\n",
       "      <td>Guild Education</td>\n",
       "      <td>Lead Gen - Post Secondary</td>\n",
       "      <td>Giving and Receiving Feedback</td>\n",
       "    </tr>\n",
       "    <tr>\n",
       "      <th>1</th>\n",
       "      <td>00636000005eG7BAAU</td>\n",
       "      <td>Western Governors University</td>\n",
       "      <td>University</td>\n",
       "      <td>B.A. in Interdisciplinary Studies (K-8)</td>\n",
       "    </tr>\n",
       "    <tr>\n",
       "      <th>2</th>\n",
       "      <td>00636000005eGPxAAM</td>\n",
       "      <td>Western Governors University</td>\n",
       "      <td>University</td>\n",
       "      <td>B.A. in Interdisciplinary Studies (K-8)</td>\n",
       "    </tr>\n",
       "    <tr>\n",
       "      <th>3</th>\n",
       "      <td>00636000005eNIpAAM</td>\n",
       "      <td>Western Governors University</td>\n",
       "      <td>University</td>\n",
       "      <td>B.A. in Interdisciplinary Studies (K-8)</td>\n",
       "    </tr>\n",
       "    <tr>\n",
       "      <th>4</th>\n",
       "      <td>00636000005eOcBAAU</td>\n",
       "      <td>Western Governors University</td>\n",
       "      <td>University</td>\n",
       "      <td>B.A. in Interdisciplinary Studies (K-8)</td>\n",
       "    </tr>\n",
       "    <tr>\n",
       "      <th>...</th>\n",
       "      <td>...</td>\n",
       "      <td>...</td>\n",
       "      <td>...</td>\n",
       "      <td>...</td>\n",
       "    </tr>\n",
       "    <tr>\n",
       "      <th>6963</th>\n",
       "      <td>0063600000f8ny7AAA</td>\n",
       "      <td>Guild Education</td>\n",
       "      <td>Lead Gen - Post Secondary</td>\n",
       "      <td>High School Completion Program</td>\n",
       "    </tr>\n",
       "    <tr>\n",
       "      <th>6964</th>\n",
       "      <td>0063600000f8nz0AAA</td>\n",
       "      <td>Penn Foster High School</td>\n",
       "      <td>Lead Gen - Secondary</td>\n",
       "      <td>Walmart High School Track</td>\n",
       "    </tr>\n",
       "    <tr>\n",
       "      <th>6965</th>\n",
       "      <td>0063600000f8o0oAAA</td>\n",
       "      <td>Penn Foster High School</td>\n",
       "      <td>Lead Gen - Secondary</td>\n",
       "      <td>Walmart High School Track</td>\n",
       "    </tr>\n",
       "    <tr>\n",
       "      <th>6966</th>\n",
       "      <td>0063600000f8o5EAAQ</td>\n",
       "      <td>Penn Foster High School</td>\n",
       "      <td>Lead Gen - Secondary</td>\n",
       "      <td>Walmart High School Track</td>\n",
       "    </tr>\n",
       "    <tr>\n",
       "      <th>6967</th>\n",
       "      <td>0063600000f8o5sAAA</td>\n",
       "      <td>Ashworth College</td>\n",
       "      <td>University</td>\n",
       "      <td>Electrician Training Career Diploma</td>\n",
       "    </tr>\n",
       "  </tbody>\n",
       "</table>\n",
       "<p>6968 rows × 4 columns</p>\n",
       "</div>"
      ],
      "text/plain": [
       "       Sf Opportunity ID Sf Opportunity Application Type C  \\\n",
       "0     00636000005dxASAAY                   Guild Education   \n",
       "1     00636000005eG7BAAU      Western Governors University   \n",
       "2     00636000005eGPxAAM      Western Governors University   \n",
       "3     00636000005eNIpAAM      Western Governors University   \n",
       "4     00636000005eOcBAAU      Western Governors University   \n",
       "...                  ...                               ...   \n",
       "6963  0063600000f8ny7AAA                   Guild Education   \n",
       "6964  0063600000f8nz0AAA           Penn Foster High School   \n",
       "6965  0063600000f8o0oAAA           Penn Foster High School   \n",
       "6966  0063600000f8o5EAAQ           Penn Foster High School   \n",
       "6967  0063600000f8o5sAAA                  Ashworth College   \n",
       "\n",
       "     Sf Opportunity Program Category                 Sf Opportunity Program C  \n",
       "0          Lead Gen - Post Secondary            Giving and Receiving Feedback  \n",
       "1                         University  B.A. in Interdisciplinary Studies (K-8)  \n",
       "2                         University  B.A. in Interdisciplinary Studies (K-8)  \n",
       "3                         University  B.A. in Interdisciplinary Studies (K-8)  \n",
       "4                         University  B.A. in Interdisciplinary Studies (K-8)  \n",
       "...                              ...                                      ...  \n",
       "6963       Lead Gen - Post Secondary           High School Completion Program  \n",
       "6964            Lead Gen - Secondary                Walmart High School Track  \n",
       "6965            Lead Gen - Secondary                Walmart High School Track  \n",
       "6966            Lead Gen - Secondary                Walmart High School Track  \n",
       "6967                      University      Electrician Training Career Diploma  \n",
       "\n",
       "[6968 rows x 4 columns]"
      ]
     },
     "execution_count": 12,
     "metadata": {},
     "output_type": "execute_result"
    }
   ],
   "source": [
    "df_Opportunity_Details"
   ]
  },
  {
   "cell_type": "code",
   "execution_count": 76,
   "id": "a162062c-f884-42cc-b69f-596cf6176b95",
   "metadata": {},
   "outputs": [
    {
     "data": {
      "text/html": [
       "<div>\n",
       "<style scoped>\n",
       "    .dataframe tbody tr th:only-of-type {\n",
       "        vertical-align: middle;\n",
       "    }\n",
       "\n",
       "    .dataframe tbody tr th {\n",
       "        vertical-align: top;\n",
       "    }\n",
       "\n",
       "    .dataframe thead th {\n",
       "        text-align: right;\n",
       "    }\n",
       "</style>\n",
       "<table border=\"1\" class=\"dataframe\">\n",
       "  <thead>\n",
       "    <tr style=\"text-align: right;\">\n",
       "      <th></th>\n",
       "      <th>Sf Opportunity ID</th>\n",
       "      <th>Sf Opportunity Application Type C</th>\n",
       "      <th>Sf Opportunity Program Category</th>\n",
       "      <th>Sf Opportunity Program C</th>\n",
       "    </tr>\n",
       "  </thead>\n",
       "  <tbody>\n",
       "    <tr>\n",
       "      <th>count</th>\n",
       "      <td>6968</td>\n",
       "      <td>6965</td>\n",
       "      <td>6968</td>\n",
       "      <td>6965</td>\n",
       "    </tr>\n",
       "    <tr>\n",
       "      <th>unique</th>\n",
       "      <td>6968</td>\n",
       "      <td>13</td>\n",
       "      <td>6</td>\n",
       "      <td>292</td>\n",
       "    </tr>\n",
       "    <tr>\n",
       "      <th>top</th>\n",
       "      <td>0063600000WAdvyAAD</td>\n",
       "      <td>Guild Education</td>\n",
       "      <td>University</td>\n",
       "      <td>Walmart High School Track</td>\n",
       "    </tr>\n",
       "    <tr>\n",
       "      <th>freq</th>\n",
       "      <td>1</td>\n",
       "      <td>2527</td>\n",
       "      <td>2859</td>\n",
       "      <td>719</td>\n",
       "    </tr>\n",
       "  </tbody>\n",
       "</table>\n",
       "</div>"
      ],
      "text/plain": [
       "         Sf Opportunity ID Sf Opportunity Application Type C  \\\n",
       "count                 6968                              6965   \n",
       "unique                6968                                13   \n",
       "top     0063600000WAdvyAAD                   Guild Education   \n",
       "freq                     1                              2527   \n",
       "\n",
       "       Sf Opportunity Program Category   Sf Opportunity Program C  \n",
       "count                             6968                       6965  \n",
       "unique                               6                        292  \n",
       "top                         University  Walmart High School Track  \n",
       "freq                              2859                        719  "
      ]
     },
     "execution_count": 76,
     "metadata": {},
     "output_type": "execute_result"
    }
   ],
   "source": [
    "df_Opportunity_Details.describe()"
   ]
  },
  {
   "cell_type": "code",
   "execution_count": 77,
   "id": "4cafc2e4-7a1c-4da2-b90f-e1571c59571d",
   "metadata": {},
   "outputs": [
    {
     "data": {
      "text/html": [
       "<div>\n",
       "<style scoped>\n",
       "    .dataframe tbody tr th:only-of-type {\n",
       "        vertical-align: middle;\n",
       "    }\n",
       "\n",
       "    .dataframe tbody tr th {\n",
       "        vertical-align: top;\n",
       "    }\n",
       "\n",
       "    .dataframe thead th {\n",
       "        text-align: right;\n",
       "    }\n",
       "</style>\n",
       "<table border=\"1\" class=\"dataframe\">\n",
       "  <thead>\n",
       "    <tr style=\"text-align: right;\">\n",
       "      <th></th>\n",
       "      <th>null</th>\n",
       "    </tr>\n",
       "  </thead>\n",
       "  <tbody>\n",
       "    <tr>\n",
       "      <th>Sf Opportunity ID</th>\n",
       "      <td>0</td>\n",
       "    </tr>\n",
       "    <tr>\n",
       "      <th>Sf Opportunity Application Type C</th>\n",
       "      <td>3</td>\n",
       "    </tr>\n",
       "    <tr>\n",
       "      <th>Sf Opportunity Program Category</th>\n",
       "      <td>0</td>\n",
       "    </tr>\n",
       "    <tr>\n",
       "      <th>Sf Opportunity Program C</th>\n",
       "      <td>3</td>\n",
       "    </tr>\n",
       "  </tbody>\n",
       "</table>\n",
       "</div>"
      ],
      "text/plain": [
       "                                   null\n",
       "Sf Opportunity ID                     0\n",
       "Sf Opportunity Application Type C     3\n",
       "Sf Opportunity Program Category       0\n",
       "Sf Opportunity Program C              3"
      ]
     },
     "execution_count": 77,
     "metadata": {},
     "output_type": "execute_result"
    }
   ],
   "source": [
    "null_df = pd.DataFrame({'null' : df_Opportunity_Details.isnull().sum()})\n",
    "null_df"
   ]
  },
  {
   "cell_type": "code",
   "execution_count": 79,
   "id": "8f9d0623-d070-4428-b084-d0e88745af78",
   "metadata": {},
   "outputs": [
    {
     "data": {
      "text/plain": [
       "['Sf Contact ID', 'Sf Opportunity ID', 'Sf Course C ID']"
      ]
     },
     "execution_count": 79,
     "metadata": {},
     "output_type": "execute_result"
    }
   ],
   "source": [
    "df_Contact_Details.columns.to_list()"
   ]
  },
  {
   "cell_type": "code",
   "execution_count": 80,
   "id": "814a58b4-fe07-441a-aa39-bc8763e30ec9",
   "metadata": {},
   "outputs": [
    {
     "data": {
      "text/plain": [
       "['Sf Course C ID',\n",
       " 'Sf Course C Name',\n",
       " 'Sf Course C Course Start Date C Date',\n",
       " 'Sf Course C Course End Date C Date',\n",
       " 'Sf Course C Final Grade C']"
      ]
     },
     "execution_count": 80,
     "metadata": {},
     "output_type": "execute_result"
    }
   ],
   "source": [
    "df_Course_Details.columns.to_list()"
   ]
  },
  {
   "cell_type": "code",
   "execution_count": 81,
   "id": "f97922d2-4d65-4a7b-82c8-f2c0fd1f6d0e",
   "metadata": {},
   "outputs": [
    {
     "data": {
      "text/plain": [
       "['Sf Opportunity ID',\n",
       " 'Sf Opportunity Application Type C',\n",
       " 'Sf Opportunity Program Category',\n",
       " 'Sf Opportunity Program C']"
      ]
     },
     "execution_count": 81,
     "metadata": {},
     "output_type": "execute_result"
    }
   ],
   "source": [
    "df_Opportunity_Details.columns.to_list()"
   ]
  },
  {
   "cell_type": "code",
   "execution_count": 92,
   "id": "615d97d8-70c8-4b84-93bd-6d269404cb4b",
   "metadata": {},
   "outputs": [],
   "source": [
    "single_table = df_Contact_Details.merge(df_Course_Details, how='outer', on='Sf Course C ID').merge(df_Opportunity_Details, how='outer', on='Sf Opportunity ID')"
   ]
  },
  {
   "cell_type": "code",
   "execution_count": 93,
   "id": "25cc7f77-7f84-41c4-a981-9eaa7139f083",
   "metadata": {},
   "outputs": [
    {
     "data": {
      "text/html": [
       "<div>\n",
       "<style scoped>\n",
       "    .dataframe tbody tr th:only-of-type {\n",
       "        vertical-align: middle;\n",
       "    }\n",
       "\n",
       "    .dataframe tbody tr th {\n",
       "        vertical-align: top;\n",
       "    }\n",
       "\n",
       "    .dataframe thead th {\n",
       "        text-align: right;\n",
       "    }\n",
       "</style>\n",
       "<table border=\"1\" class=\"dataframe\">\n",
       "  <thead>\n",
       "    <tr style=\"text-align: right;\">\n",
       "      <th></th>\n",
       "      <th>Sf Contact ID</th>\n",
       "      <th>Sf Opportunity ID</th>\n",
       "      <th>Sf Course C ID</th>\n",
       "      <th>Sf Course C Name</th>\n",
       "      <th>Sf Course C Course Start Date C Date</th>\n",
       "      <th>Sf Course C Course End Date C Date</th>\n",
       "      <th>Sf Course C Final Grade C</th>\n",
       "      <th>Sf Opportunity Application Type C</th>\n",
       "      <th>Sf Opportunity Program Category</th>\n",
       "      <th>Sf Opportunity Program C</th>\n",
       "    </tr>\n",
       "  </thead>\n",
       "  <tbody>\n",
       "    <tr>\n",
       "      <th>0</th>\n",
       "      <td>0033600000q4ADOAA2</td>\n",
       "      <td>00636000005dxASAAY</td>\n",
       "      <td>NaN</td>\n",
       "      <td>NaN</td>\n",
       "      <td>NaN</td>\n",
       "      <td>NaN</td>\n",
       "      <td>NaN</td>\n",
       "      <td>Guild Education</td>\n",
       "      <td>Lead Gen - Post Secondary</td>\n",
       "      <td>Giving and Receiving Feedback</td>\n",
       "    </tr>\n",
       "    <tr>\n",
       "      <th>1</th>\n",
       "      <td>0033600000BMcisAAD</td>\n",
       "      <td>00636000005eG7BAAU</td>\n",
       "      <td>NaN</td>\n",
       "      <td>NaN</td>\n",
       "      <td>NaN</td>\n",
       "      <td>NaN</td>\n",
       "      <td>NaN</td>\n",
       "      <td>Western Governors University</td>\n",
       "      <td>University</td>\n",
       "      <td>B.A. in Interdisciplinary Studies (K-8)</td>\n",
       "    </tr>\n",
       "    <tr>\n",
       "      <th>2</th>\n",
       "      <td>00336000009m01JAAQ</td>\n",
       "      <td>00636000005eGPxAAM</td>\n",
       "      <td>NaN</td>\n",
       "      <td>NaN</td>\n",
       "      <td>NaN</td>\n",
       "      <td>NaN</td>\n",
       "      <td>NaN</td>\n",
       "      <td>Western Governors University</td>\n",
       "      <td>University</td>\n",
       "      <td>B.A. in Interdisciplinary Studies (K-8)</td>\n",
       "    </tr>\n",
       "    <tr>\n",
       "      <th>3</th>\n",
       "      <td>0033600000BOI13AAH</td>\n",
       "      <td>00636000005eNIpAAM</td>\n",
       "      <td>NaN</td>\n",
       "      <td>NaN</td>\n",
       "      <td>NaN</td>\n",
       "      <td>NaN</td>\n",
       "      <td>NaN</td>\n",
       "      <td>Western Governors University</td>\n",
       "      <td>University</td>\n",
       "      <td>B.A. in Interdisciplinary Studies (K-8)</td>\n",
       "    </tr>\n",
       "    <tr>\n",
       "      <th>4</th>\n",
       "      <td>0033600000BNSXNAA5</td>\n",
       "      <td>00636000005eOcBAAU</td>\n",
       "      <td>NaN</td>\n",
       "      <td>NaN</td>\n",
       "      <td>NaN</td>\n",
       "      <td>NaN</td>\n",
       "      <td>NaN</td>\n",
       "      <td>Western Governors University</td>\n",
       "      <td>University</td>\n",
       "      <td>B.A. in Interdisciplinary Studies (K-8)</td>\n",
       "    </tr>\n",
       "    <tr>\n",
       "      <th>...</th>\n",
       "      <td>...</td>\n",
       "      <td>...</td>\n",
       "      <td>...</td>\n",
       "      <td>...</td>\n",
       "      <td>...</td>\n",
       "      <td>...</td>\n",
       "      <td>...</td>\n",
       "      <td>...</td>\n",
       "      <td>...</td>\n",
       "      <td>...</td>\n",
       "    </tr>\n",
       "    <tr>\n",
       "      <th>27024</th>\n",
       "      <td>0033600001ewXqeAAE</td>\n",
       "      <td>0063600000f8ikCAAQ</td>\n",
       "      <td>a1C36000009uvGuEAI</td>\n",
       "      <td>Spanish I</td>\n",
       "      <td>5/1/2018</td>\n",
       "      <td>9/1/2018</td>\n",
       "      <td>NaN</td>\n",
       "      <td>StraighterLine</td>\n",
       "      <td>StraighterLine/Saylor</td>\n",
       "      <td>Spanish I</td>\n",
       "    </tr>\n",
       "    <tr>\n",
       "      <th>27025</th>\n",
       "      <td>0033600001ewjc9AAA</td>\n",
       "      <td>0063600000f8ikHAAQ</td>\n",
       "      <td>a1C36000009uvH4EAI</td>\n",
       "      <td>Spanish I</td>\n",
       "      <td>5/30/2018</td>\n",
       "      <td>9/30/2018</td>\n",
       "      <td>NaN</td>\n",
       "      <td>StraighterLine</td>\n",
       "      <td>StraighterLine/Saylor</td>\n",
       "      <td>Spanish I</td>\n",
       "    </tr>\n",
       "    <tr>\n",
       "      <th>27026</th>\n",
       "      <td>0033600001ewXjyAAE</td>\n",
       "      <td>0063600000f8ikMAAQ</td>\n",
       "      <td>a1C36000009uvH9EAI</td>\n",
       "      <td>Information Technology Fundamentals</td>\n",
       "      <td>5/30/2018</td>\n",
       "      <td>9/30/2018</td>\n",
       "      <td>NaN</td>\n",
       "      <td>StraighterLine</td>\n",
       "      <td>StraighterLine/Saylor</td>\n",
       "      <td>Information Technology Fundamentals</td>\n",
       "    </tr>\n",
       "    <tr>\n",
       "      <th>27027</th>\n",
       "      <td>0033600001ex5HkAAI</td>\n",
       "      <td>0063600000f8mvIAAQ</td>\n",
       "      <td>a1C36000009v8XmEAI</td>\n",
       "      <td>Precalculus</td>\n",
       "      <td>5/30/2018</td>\n",
       "      <td>9/30/2018</td>\n",
       "      <td>NaN</td>\n",
       "      <td>StraighterLine</td>\n",
       "      <td>StraighterLine/Saylor</td>\n",
       "      <td>Precalculus</td>\n",
       "    </tr>\n",
       "    <tr>\n",
       "      <th>27028</th>\n",
       "      <td>0033600001exBCHAA2</td>\n",
       "      <td>0063600000f8ny7AAA</td>\n",
       "      <td>a1C36000009vD3SEAU</td>\n",
       "      <td>High School Completion Program</td>\n",
       "      <td>NaN</td>\n",
       "      <td>NaN</td>\n",
       "      <td>NaN</td>\n",
       "      <td>Guild Education</td>\n",
       "      <td>Lead Gen - Post Secondary</td>\n",
       "      <td>High School Completion Program</td>\n",
       "    </tr>\n",
       "  </tbody>\n",
       "</table>\n",
       "<p>27029 rows × 10 columns</p>\n",
       "</div>"
      ],
      "text/plain": [
       "            Sf Contact ID   Sf Opportunity ID      Sf Course C ID  \\\n",
       "0      0033600000q4ADOAA2  00636000005dxASAAY                 NaN   \n",
       "1      0033600000BMcisAAD  00636000005eG7BAAU                 NaN   \n",
       "2      00336000009m01JAAQ  00636000005eGPxAAM                 NaN   \n",
       "3      0033600000BOI13AAH  00636000005eNIpAAM                 NaN   \n",
       "4      0033600000BNSXNAA5  00636000005eOcBAAU                 NaN   \n",
       "...                   ...                 ...                 ...   \n",
       "27024  0033600001ewXqeAAE  0063600000f8ikCAAQ  a1C36000009uvGuEAI   \n",
       "27025  0033600001ewjc9AAA  0063600000f8ikHAAQ  a1C36000009uvH4EAI   \n",
       "27026  0033600001ewXjyAAE  0063600000f8ikMAAQ  a1C36000009uvH9EAI   \n",
       "27027  0033600001ex5HkAAI  0063600000f8mvIAAQ  a1C36000009v8XmEAI   \n",
       "27028  0033600001exBCHAA2  0063600000f8ny7AAA  a1C36000009vD3SEAU   \n",
       "\n",
       "                          Sf Course C Name  \\\n",
       "0                                      NaN   \n",
       "1                                      NaN   \n",
       "2                                      NaN   \n",
       "3                                      NaN   \n",
       "4                                      NaN   \n",
       "...                                    ...   \n",
       "27024                            Spanish I   \n",
       "27025                            Spanish I   \n",
       "27026  Information Technology Fundamentals   \n",
       "27027                          Precalculus   \n",
       "27028       High School Completion Program   \n",
       "\n",
       "      Sf Course C Course Start Date C Date Sf Course C Course End Date C Date  \\\n",
       "0                                      NaN                                NaN   \n",
       "1                                      NaN                                NaN   \n",
       "2                                      NaN                                NaN   \n",
       "3                                      NaN                                NaN   \n",
       "4                                      NaN                                NaN   \n",
       "...                                    ...                                ...   \n",
       "27024                             5/1/2018                           9/1/2018   \n",
       "27025                            5/30/2018                          9/30/2018   \n",
       "27026                            5/30/2018                          9/30/2018   \n",
       "27027                            5/30/2018                          9/30/2018   \n",
       "27028                                  NaN                                NaN   \n",
       "\n",
       "      Sf Course C Final Grade C Sf Opportunity Application Type C  \\\n",
       "0                           NaN                   Guild Education   \n",
       "1                           NaN      Western Governors University   \n",
       "2                           NaN      Western Governors University   \n",
       "3                           NaN      Western Governors University   \n",
       "4                           NaN      Western Governors University   \n",
       "...                         ...                               ...   \n",
       "27024                       NaN                    StraighterLine   \n",
       "27025                       NaN                    StraighterLine   \n",
       "27026                       NaN                    StraighterLine   \n",
       "27027                       NaN                    StraighterLine   \n",
       "27028                       NaN                   Guild Education   \n",
       "\n",
       "      Sf Opportunity Program Category                 Sf Opportunity Program C  \n",
       "0           Lead Gen - Post Secondary            Giving and Receiving Feedback  \n",
       "1                          University  B.A. in Interdisciplinary Studies (K-8)  \n",
       "2                          University  B.A. in Interdisciplinary Studies (K-8)  \n",
       "3                          University  B.A. in Interdisciplinary Studies (K-8)  \n",
       "4                          University  B.A. in Interdisciplinary Studies (K-8)  \n",
       "...                               ...                                      ...  \n",
       "27024           StraighterLine/Saylor                                Spanish I  \n",
       "27025           StraighterLine/Saylor                                Spanish I  \n",
       "27026           StraighterLine/Saylor      Information Technology Fundamentals  \n",
       "27027           StraighterLine/Saylor                              Precalculus  \n",
       "27028       Lead Gen - Post Secondary           High School Completion Program  \n",
       "\n",
       "[27029 rows x 10 columns]"
      ]
     },
     "execution_count": 93,
     "metadata": {},
     "output_type": "execute_result"
    }
   ],
   "source": [
    "single_table"
   ]
  },
  {
   "cell_type": "code",
   "execution_count": 94,
   "id": "ea9432fe-d2cb-4ba3-af9b-9a827fcf01bb",
   "metadata": {},
   "outputs": [
    {
     "data": {
      "text/html": [
       "<div>\n",
       "<style scoped>\n",
       "    .dataframe tbody tr th:only-of-type {\n",
       "        vertical-align: middle;\n",
       "    }\n",
       "\n",
       "    .dataframe tbody tr th {\n",
       "        vertical-align: top;\n",
       "    }\n",
       "\n",
       "    .dataframe thead th {\n",
       "        text-align: right;\n",
       "    }\n",
       "</style>\n",
       "<table border=\"1\" class=\"dataframe\">\n",
       "  <thead>\n",
       "    <tr style=\"text-align: right;\">\n",
       "      <th></th>\n",
       "      <th>Sf Contact ID</th>\n",
       "      <th>Sf Opportunity ID</th>\n",
       "      <th>Sf Course C ID</th>\n",
       "      <th>Sf Course C Name</th>\n",
       "      <th>Sf Course C Course Start Date C Date</th>\n",
       "      <th>Sf Course C Course End Date C Date</th>\n",
       "      <th>Sf Course C Final Grade C</th>\n",
       "      <th>Sf Opportunity Application Type C</th>\n",
       "      <th>Sf Opportunity Program Category</th>\n",
       "      <th>Sf Opportunity Program C</th>\n",
       "    </tr>\n",
       "  </thead>\n",
       "  <tbody>\n",
       "    <tr>\n",
       "      <th>count</th>\n",
       "      <td>27029</td>\n",
       "      <td>11878</td>\n",
       "      <td>7572</td>\n",
       "      <td>7572</td>\n",
       "      <td>7563</td>\n",
       "      <td>7539</td>\n",
       "      <td>2736</td>\n",
       "      <td>11875</td>\n",
       "      <td>11878</td>\n",
       "      <td>11875</td>\n",
       "    </tr>\n",
       "    <tr>\n",
       "      <th>unique</th>\n",
       "      <td>18504</td>\n",
       "      <td>6968</td>\n",
       "      <td>7572</td>\n",
       "      <td>879</td>\n",
       "      <td>417</td>\n",
       "      <td>519</td>\n",
       "      <td>24</td>\n",
       "      <td>13</td>\n",
       "      <td>6</td>\n",
       "      <td>292</td>\n",
       "    </tr>\n",
       "    <tr>\n",
       "      <th>top</th>\n",
       "      <td>0033600000VDyNSAA1</td>\n",
       "      <td>0063600000IfR5bAAF</td>\n",
       "      <td>a1C36000007TGoGEAW</td>\n",
       "      <td>High School Completion Program</td>\n",
       "      <td>3/12/2018</td>\n",
       "      <td>5/6/2018</td>\n",
       "      <td>A</td>\n",
       "      <td>Bellevue University</td>\n",
       "      <td>University</td>\n",
       "      <td>High School Completion Program</td>\n",
       "    </tr>\n",
       "    <tr>\n",
       "      <th>freq</th>\n",
       "      <td>46</td>\n",
       "      <td>43</td>\n",
       "      <td>1</td>\n",
       "      <td>528</td>\n",
       "      <td>523</td>\n",
       "      <td>311</td>\n",
       "      <td>664</td>\n",
       "      <td>2815</td>\n",
       "      <td>7169</td>\n",
       "      <td>894</td>\n",
       "    </tr>\n",
       "  </tbody>\n",
       "</table>\n",
       "</div>"
      ],
      "text/plain": [
       "             Sf Contact ID   Sf Opportunity ID      Sf Course C ID  \\\n",
       "count                27029               11878                7572   \n",
       "unique               18504                6968                7572   \n",
       "top     0033600000VDyNSAA1  0063600000IfR5bAAF  a1C36000007TGoGEAW   \n",
       "freq                    46                  43                   1   \n",
       "\n",
       "                      Sf Course C Name Sf Course C Course Start Date C Date  \\\n",
       "count                             7572                                 7563   \n",
       "unique                             879                                  417   \n",
       "top     High School Completion Program                            3/12/2018   \n",
       "freq                               528                                  523   \n",
       "\n",
       "       Sf Course C Course End Date C Date Sf Course C Final Grade C  \\\n",
       "count                                7539                      2736   \n",
       "unique                                519                        24   \n",
       "top                              5/6/2018                         A   \n",
       "freq                                  311                       664   \n",
       "\n",
       "       Sf Opportunity Application Type C Sf Opportunity Program Category  \\\n",
       "count                              11875                           11878   \n",
       "unique                                13                               6   \n",
       "top                  Bellevue University                      University   \n",
       "freq                                2815                            7169   \n",
       "\n",
       "              Sf Opportunity Program C  \n",
       "count                            11875  \n",
       "unique                             292  \n",
       "top     High School Completion Program  \n",
       "freq                               894  "
      ]
     },
     "execution_count": 94,
     "metadata": {},
     "output_type": "execute_result"
    }
   ],
   "source": [
    "single_table.describe()"
   ]
  },
  {
   "cell_type": "code",
   "execution_count": 103,
   "id": "04ee7cd7-111f-4f43-b19f-ed3d4caf234b",
   "metadata": {},
   "outputs": [
    {
     "data": {
      "text/plain": [
       "Sf Contact ID                           object\n",
       "Sf Opportunity ID                       object\n",
       "Sf Course C ID                          object\n",
       "Sf Course C Name                        object\n",
       "Sf Course C Course Start Date C Date    object\n",
       "Sf Course C Course End Date C Date      object\n",
       "Sf Course C Final Grade C               object\n",
       "Sf Opportunity Application Type C       object\n",
       "Sf Opportunity Program Category         object\n",
       "Sf Opportunity Program C                object\n",
       "dtype: object"
      ]
     },
     "execution_count": 103,
     "metadata": {},
     "output_type": "execute_result"
    }
   ],
   "source": [
    "single_table.dtypes"
   ]
  },
  {
   "cell_type": "code",
   "execution_count": 97,
   "id": "450dccc7-cd66-42df-ae24-9e73e3bf829a",
   "metadata": {},
   "outputs": [
    {
     "data": {
      "text/html": [
       "<div>\n",
       "<style scoped>\n",
       "    .dataframe tbody tr th:only-of-type {\n",
       "        vertical-align: middle;\n",
       "    }\n",
       "\n",
       "    .dataframe tbody tr th {\n",
       "        vertical-align: top;\n",
       "    }\n",
       "\n",
       "    .dataframe thead th {\n",
       "        text-align: right;\n",
       "    }\n",
       "</style>\n",
       "<table border=\"1\" class=\"dataframe\">\n",
       "  <thead>\n",
       "    <tr style=\"text-align: right;\">\n",
       "      <th></th>\n",
       "      <th>Sf Contact ID</th>\n",
       "      <th>Sf Opportunity ID</th>\n",
       "      <th>Sf Course C ID</th>\n",
       "    </tr>\n",
       "  </thead>\n",
       "  <tbody>\n",
       "    <tr>\n",
       "      <th>count</th>\n",
       "      <td>27029</td>\n",
       "      <td>11878</td>\n",
       "      <td>7572</td>\n",
       "    </tr>\n",
       "    <tr>\n",
       "      <th>unique</th>\n",
       "      <td>18504</td>\n",
       "      <td>6968</td>\n",
       "      <td>7572</td>\n",
       "    </tr>\n",
       "    <tr>\n",
       "      <th>top</th>\n",
       "      <td>0033600000VDyNSAA1</td>\n",
       "      <td>0063600000IfR5bAAF</td>\n",
       "      <td>a1C36000007TGoGEAW</td>\n",
       "    </tr>\n",
       "    <tr>\n",
       "      <th>freq</th>\n",
       "      <td>46</td>\n",
       "      <td>43</td>\n",
       "      <td>1</td>\n",
       "    </tr>\n",
       "  </tbody>\n",
       "</table>\n",
       "</div>"
      ],
      "text/plain": [
       "             Sf Contact ID   Sf Opportunity ID      Sf Course C ID\n",
       "count                27029               11878                7572\n",
       "unique               18504                6968                7572\n",
       "top     0033600000VDyNSAA1  0063600000IfR5bAAF  a1C36000007TGoGEAW\n",
       "freq                    46                  43                   1"
      ]
     },
     "execution_count": 97,
     "metadata": {},
     "output_type": "execute_result"
    }
   ],
   "source": [
    "df_Contact_Details.describe()"
   ]
  },
  {
   "cell_type": "code",
   "execution_count": 98,
   "id": "23b0a38d-c9af-4a55-9bd4-a532492c1afc",
   "metadata": {},
   "outputs": [
    {
     "data": {
      "text/html": [
       "<div>\n",
       "<style scoped>\n",
       "    .dataframe tbody tr th:only-of-type {\n",
       "        vertical-align: middle;\n",
       "    }\n",
       "\n",
       "    .dataframe tbody tr th {\n",
       "        vertical-align: top;\n",
       "    }\n",
       "\n",
       "    .dataframe thead th {\n",
       "        text-align: right;\n",
       "    }\n",
       "</style>\n",
       "<table border=\"1\" class=\"dataframe\">\n",
       "  <thead>\n",
       "    <tr style=\"text-align: right;\">\n",
       "      <th></th>\n",
       "      <th>Sf Course C ID</th>\n",
       "      <th>Sf Course C Name</th>\n",
       "      <th>Sf Course C Course Start Date C Date</th>\n",
       "      <th>Sf Course C Course End Date C Date</th>\n",
       "      <th>Sf Course C Final Grade C</th>\n",
       "    </tr>\n",
       "  </thead>\n",
       "  <tbody>\n",
       "    <tr>\n",
       "      <th>count</th>\n",
       "      <td>7572</td>\n",
       "      <td>7572</td>\n",
       "      <td>7563</td>\n",
       "      <td>7539</td>\n",
       "      <td>2736</td>\n",
       "    </tr>\n",
       "    <tr>\n",
       "      <th>unique</th>\n",
       "      <td>7572</td>\n",
       "      <td>879</td>\n",
       "      <td>417</td>\n",
       "      <td>519</td>\n",
       "      <td>24</td>\n",
       "    </tr>\n",
       "    <tr>\n",
       "      <th>top</th>\n",
       "      <td>a1C36000007TGoGEAW</td>\n",
       "      <td>High School Completion Program</td>\n",
       "      <td>3/12/2018</td>\n",
       "      <td>5/6/2018</td>\n",
       "      <td>A</td>\n",
       "    </tr>\n",
       "    <tr>\n",
       "      <th>freq</th>\n",
       "      <td>1</td>\n",
       "      <td>528</td>\n",
       "      <td>523</td>\n",
       "      <td>311</td>\n",
       "      <td>664</td>\n",
       "    </tr>\n",
       "  </tbody>\n",
       "</table>\n",
       "</div>"
      ],
      "text/plain": [
       "            Sf Course C ID                Sf Course C Name  \\\n",
       "count                 7572                            7572   \n",
       "unique                7572                             879   \n",
       "top     a1C36000007TGoGEAW  High School Completion Program   \n",
       "freq                     1                             528   \n",
       "\n",
       "       Sf Course C Course Start Date C Date  \\\n",
       "count                                  7563   \n",
       "unique                                  417   \n",
       "top                               3/12/2018   \n",
       "freq                                    523   \n",
       "\n",
       "       Sf Course C Course End Date C Date Sf Course C Final Grade C  \n",
       "count                                7539                      2736  \n",
       "unique                                519                        24  \n",
       "top                              5/6/2018                         A  \n",
       "freq                                  311                       664  "
      ]
     },
     "execution_count": 98,
     "metadata": {},
     "output_type": "execute_result"
    }
   ],
   "source": [
    "df_Course_Details.describe()"
   ]
  },
  {
   "cell_type": "code",
   "execution_count": 99,
   "id": "3ddd8f06-2431-4116-b273-561e63d201af",
   "metadata": {},
   "outputs": [
    {
     "data": {
      "text/html": [
       "<div>\n",
       "<style scoped>\n",
       "    .dataframe tbody tr th:only-of-type {\n",
       "        vertical-align: middle;\n",
       "    }\n",
       "\n",
       "    .dataframe tbody tr th {\n",
       "        vertical-align: top;\n",
       "    }\n",
       "\n",
       "    .dataframe thead th {\n",
       "        text-align: right;\n",
       "    }\n",
       "</style>\n",
       "<table border=\"1\" class=\"dataframe\">\n",
       "  <thead>\n",
       "    <tr style=\"text-align: right;\">\n",
       "      <th></th>\n",
       "      <th>Sf Contact ID</th>\n",
       "      <th>Sf Opportunity ID</th>\n",
       "      <th>Sf Course C ID</th>\n",
       "      <th>Sf Course C Name</th>\n",
       "      <th>Sf Course C Course Start Date C Date</th>\n",
       "      <th>Sf Course C Course End Date C Date</th>\n",
       "      <th>Sf Course C Final Grade C</th>\n",
       "      <th>Sf Opportunity Application Type C</th>\n",
       "      <th>Sf Opportunity Program Category</th>\n",
       "      <th>Sf Opportunity Program C</th>\n",
       "    </tr>\n",
       "  </thead>\n",
       "  <tbody>\n",
       "    <tr>\n",
       "      <th>count</th>\n",
       "      <td>27029</td>\n",
       "      <td>11878</td>\n",
       "      <td>7572</td>\n",
       "      <td>7572</td>\n",
       "      <td>7563</td>\n",
       "      <td>7539</td>\n",
       "      <td>2736</td>\n",
       "      <td>11875</td>\n",
       "      <td>11878</td>\n",
       "      <td>11875</td>\n",
       "    </tr>\n",
       "    <tr>\n",
       "      <th>unique</th>\n",
       "      <td>18504</td>\n",
       "      <td>6968</td>\n",
       "      <td>7572</td>\n",
       "      <td>879</td>\n",
       "      <td>417</td>\n",
       "      <td>519</td>\n",
       "      <td>24</td>\n",
       "      <td>13</td>\n",
       "      <td>6</td>\n",
       "      <td>292</td>\n",
       "    </tr>\n",
       "    <tr>\n",
       "      <th>top</th>\n",
       "      <td>0033600000VDyNSAA1</td>\n",
       "      <td>0063600000IfR5bAAF</td>\n",
       "      <td>a1C36000007TGoGEAW</td>\n",
       "      <td>High School Completion Program</td>\n",
       "      <td>3/12/2018</td>\n",
       "      <td>5/6/2018</td>\n",
       "      <td>A</td>\n",
       "      <td>Bellevue University</td>\n",
       "      <td>University</td>\n",
       "      <td>High School Completion Program</td>\n",
       "    </tr>\n",
       "    <tr>\n",
       "      <th>freq</th>\n",
       "      <td>46</td>\n",
       "      <td>43</td>\n",
       "      <td>1</td>\n",
       "      <td>528</td>\n",
       "      <td>523</td>\n",
       "      <td>311</td>\n",
       "      <td>664</td>\n",
       "      <td>2815</td>\n",
       "      <td>7169</td>\n",
       "      <td>894</td>\n",
       "    </tr>\n",
       "  </tbody>\n",
       "</table>\n",
       "</div>"
      ],
      "text/plain": [
       "             Sf Contact ID   Sf Opportunity ID      Sf Course C ID  \\\n",
       "count                27029               11878                7572   \n",
       "unique               18504                6968                7572   \n",
       "top     0033600000VDyNSAA1  0063600000IfR5bAAF  a1C36000007TGoGEAW   \n",
       "freq                    46                  43                   1   \n",
       "\n",
       "                      Sf Course C Name Sf Course C Course Start Date C Date  \\\n",
       "count                             7572                                 7563   \n",
       "unique                             879                                  417   \n",
       "top     High School Completion Program                            3/12/2018   \n",
       "freq                               528                                  523   \n",
       "\n",
       "       Sf Course C Course End Date C Date Sf Course C Final Grade C  \\\n",
       "count                                7539                      2736   \n",
       "unique                                519                        24   \n",
       "top                              5/6/2018                         A   \n",
       "freq                                  311                       664   \n",
       "\n",
       "       Sf Opportunity Application Type C Sf Opportunity Program Category  \\\n",
       "count                              11875                           11878   \n",
       "unique                                13                               6   \n",
       "top                  Bellevue University                      University   \n",
       "freq                                2815                            7169   \n",
       "\n",
       "              Sf Opportunity Program C  \n",
       "count                            11875  \n",
       "unique                             292  \n",
       "top     High School Completion Program  \n",
       "freq                               894  "
      ]
     },
     "execution_count": 99,
     "metadata": {},
     "output_type": "execute_result"
    }
   ],
   "source": [
    "single_table.describe()"
   ]
  },
  {
   "cell_type": "code",
   "execution_count": 96,
   "id": "c3a3b635-cfab-4c2d-8a48-f22f6bc7675e",
   "metadata": {},
   "outputs": [
    {
     "data": {
      "text/html": [
       "<div>\n",
       "<style scoped>\n",
       "    .dataframe tbody tr th:only-of-type {\n",
       "        vertical-align: middle;\n",
       "    }\n",
       "\n",
       "    .dataframe tbody tr th {\n",
       "        vertical-align: top;\n",
       "    }\n",
       "\n",
       "    .dataframe thead th {\n",
       "        text-align: right;\n",
       "    }\n",
       "</style>\n",
       "<table border=\"1\" class=\"dataframe\">\n",
       "  <thead>\n",
       "    <tr style=\"text-align: right;\">\n",
       "      <th></th>\n",
       "      <th>null</th>\n",
       "    </tr>\n",
       "  </thead>\n",
       "  <tbody>\n",
       "    <tr>\n",
       "      <th>Sf Contact ID</th>\n",
       "      <td>0</td>\n",
       "    </tr>\n",
       "    <tr>\n",
       "      <th>Sf Opportunity ID</th>\n",
       "      <td>15151</td>\n",
       "    </tr>\n",
       "    <tr>\n",
       "      <th>Sf Course C ID</th>\n",
       "      <td>19457</td>\n",
       "    </tr>\n",
       "    <tr>\n",
       "      <th>Sf Course C Name</th>\n",
       "      <td>19457</td>\n",
       "    </tr>\n",
       "    <tr>\n",
       "      <th>Sf Course C Course Start Date C Date</th>\n",
       "      <td>19466</td>\n",
       "    </tr>\n",
       "    <tr>\n",
       "      <th>Sf Course C Course End Date C Date</th>\n",
       "      <td>19490</td>\n",
       "    </tr>\n",
       "    <tr>\n",
       "      <th>Sf Course C Final Grade C</th>\n",
       "      <td>24293</td>\n",
       "    </tr>\n",
       "    <tr>\n",
       "      <th>Sf Opportunity Application Type C</th>\n",
       "      <td>15154</td>\n",
       "    </tr>\n",
       "    <tr>\n",
       "      <th>Sf Opportunity Program Category</th>\n",
       "      <td>15151</td>\n",
       "    </tr>\n",
       "    <tr>\n",
       "      <th>Sf Opportunity Program C</th>\n",
       "      <td>15154</td>\n",
       "    </tr>\n",
       "  </tbody>\n",
       "</table>\n",
       "</div>"
      ],
      "text/plain": [
       "                                       null\n",
       "Sf Contact ID                             0\n",
       "Sf Opportunity ID                     15151\n",
       "Sf Course C ID                        19457\n",
       "Sf Course C Name                      19457\n",
       "Sf Course C Course Start Date C Date  19466\n",
       "Sf Course C Course End Date C Date    19490\n",
       "Sf Course C Final Grade C             24293\n",
       "Sf Opportunity Application Type C     15154\n",
       "Sf Opportunity Program Category       15151\n",
       "Sf Opportunity Program C              15154"
      ]
     },
     "execution_count": 96,
     "metadata": {},
     "output_type": "execute_result"
    }
   ],
   "source": [
    "null_df = pd.DataFrame({'null' : single_table.isnull().sum()})\n",
    "null_df"
   ]
  },
  {
   "cell_type": "code",
   "execution_count": 100,
   "id": "b680c4e8-3e5b-4d15-b6e8-c927089eaa38",
   "metadata": {},
   "outputs": [
    {
     "data": {
      "text/html": [
       "<div>\n",
       "<style scoped>\n",
       "    .dataframe tbody tr th:only-of-type {\n",
       "        vertical-align: middle;\n",
       "    }\n",
       "\n",
       "    .dataframe tbody tr th {\n",
       "        vertical-align: top;\n",
       "    }\n",
       "\n",
       "    .dataframe thead th {\n",
       "        text-align: right;\n",
       "    }\n",
       "</style>\n",
       "<table border=\"1\" class=\"dataframe\">\n",
       "  <thead>\n",
       "    <tr style=\"text-align: right;\">\n",
       "      <th></th>\n",
       "      <th>null</th>\n",
       "    </tr>\n",
       "  </thead>\n",
       "  <tbody>\n",
       "    <tr>\n",
       "      <th>Sf Contact ID</th>\n",
       "      <td>0</td>\n",
       "    </tr>\n",
       "    <tr>\n",
       "      <th>Sf Opportunity ID</th>\n",
       "      <td>15151</td>\n",
       "    </tr>\n",
       "    <tr>\n",
       "      <th>Sf Course C ID</th>\n",
       "      <td>19457</td>\n",
       "    </tr>\n",
       "  </tbody>\n",
       "</table>\n",
       "</div>"
      ],
      "text/plain": [
       "                    null\n",
       "Sf Contact ID          0\n",
       "Sf Opportunity ID  15151\n",
       "Sf Course C ID     19457"
      ]
     },
     "execution_count": 100,
     "metadata": {},
     "output_type": "execute_result"
    }
   ],
   "source": [
    "null_df = pd.DataFrame({'null' : df_Contact_Details.isnull().sum()})\n",
    "null_df"
   ]
  },
  {
   "cell_type": "code",
   "execution_count": 101,
   "id": "c224ec89-35cc-4f20-981b-e82722e2bb8f",
   "metadata": {},
   "outputs": [
    {
     "data": {
      "text/html": [
       "<div>\n",
       "<style scoped>\n",
       "    .dataframe tbody tr th:only-of-type {\n",
       "        vertical-align: middle;\n",
       "    }\n",
       "\n",
       "    .dataframe tbody tr th {\n",
       "        vertical-align: top;\n",
       "    }\n",
       "\n",
       "    .dataframe thead th {\n",
       "        text-align: right;\n",
       "    }\n",
       "</style>\n",
       "<table border=\"1\" class=\"dataframe\">\n",
       "  <thead>\n",
       "    <tr style=\"text-align: right;\">\n",
       "      <th></th>\n",
       "      <th>null</th>\n",
       "    </tr>\n",
       "  </thead>\n",
       "  <tbody>\n",
       "    <tr>\n",
       "      <th>Sf Course C ID</th>\n",
       "      <td>0</td>\n",
       "    </tr>\n",
       "    <tr>\n",
       "      <th>Sf Course C Name</th>\n",
       "      <td>0</td>\n",
       "    </tr>\n",
       "    <tr>\n",
       "      <th>Sf Course C Course Start Date C Date</th>\n",
       "      <td>9</td>\n",
       "    </tr>\n",
       "    <tr>\n",
       "      <th>Sf Course C Course End Date C Date</th>\n",
       "      <td>33</td>\n",
       "    </tr>\n",
       "    <tr>\n",
       "      <th>Sf Course C Final Grade C</th>\n",
       "      <td>4836</td>\n",
       "    </tr>\n",
       "  </tbody>\n",
       "</table>\n",
       "</div>"
      ],
      "text/plain": [
       "                                      null\n",
       "Sf Course C ID                           0\n",
       "Sf Course C Name                         0\n",
       "Sf Course C Course Start Date C Date     9\n",
       "Sf Course C Course End Date C Date      33\n",
       "Sf Course C Final Grade C             4836"
      ]
     },
     "execution_count": 101,
     "metadata": {},
     "output_type": "execute_result"
    }
   ],
   "source": [
    "null_df = pd.DataFrame({'null' : df_Course_Details.isnull().sum()})\n",
    "null_df"
   ]
  },
  {
   "cell_type": "code",
   "execution_count": 102,
   "id": "6fd39a1a-7a7a-4fef-8303-5ab6ff348467",
   "metadata": {},
   "outputs": [
    {
     "data": {
      "text/html": [
       "<div>\n",
       "<style scoped>\n",
       "    .dataframe tbody tr th:only-of-type {\n",
       "        vertical-align: middle;\n",
       "    }\n",
       "\n",
       "    .dataframe tbody tr th {\n",
       "        vertical-align: top;\n",
       "    }\n",
       "\n",
       "    .dataframe thead th {\n",
       "        text-align: right;\n",
       "    }\n",
       "</style>\n",
       "<table border=\"1\" class=\"dataframe\">\n",
       "  <thead>\n",
       "    <tr style=\"text-align: right;\">\n",
       "      <th></th>\n",
       "      <th>null</th>\n",
       "    </tr>\n",
       "  </thead>\n",
       "  <tbody>\n",
       "    <tr>\n",
       "      <th>Sf Contact ID</th>\n",
       "      <td>0</td>\n",
       "    </tr>\n",
       "    <tr>\n",
       "      <th>Sf Opportunity ID</th>\n",
       "      <td>15151</td>\n",
       "    </tr>\n",
       "    <tr>\n",
       "      <th>Sf Course C ID</th>\n",
       "      <td>19457</td>\n",
       "    </tr>\n",
       "    <tr>\n",
       "      <th>Sf Course C Name</th>\n",
       "      <td>19457</td>\n",
       "    </tr>\n",
       "    <tr>\n",
       "      <th>Sf Course C Course Start Date C Date</th>\n",
       "      <td>19466</td>\n",
       "    </tr>\n",
       "    <tr>\n",
       "      <th>Sf Course C Course End Date C Date</th>\n",
       "      <td>19490</td>\n",
       "    </tr>\n",
       "    <tr>\n",
       "      <th>Sf Course C Final Grade C</th>\n",
       "      <td>24293</td>\n",
       "    </tr>\n",
       "    <tr>\n",
       "      <th>Sf Opportunity Application Type C</th>\n",
       "      <td>15154</td>\n",
       "    </tr>\n",
       "    <tr>\n",
       "      <th>Sf Opportunity Program Category</th>\n",
       "      <td>15151</td>\n",
       "    </tr>\n",
       "    <tr>\n",
       "      <th>Sf Opportunity Program C</th>\n",
       "      <td>15154</td>\n",
       "    </tr>\n",
       "  </tbody>\n",
       "</table>\n",
       "</div>"
      ],
      "text/plain": [
       "                                       null\n",
       "Sf Contact ID                             0\n",
       "Sf Opportunity ID                     15151\n",
       "Sf Course C ID                        19457\n",
       "Sf Course C Name                      19457\n",
       "Sf Course C Course Start Date C Date  19466\n",
       "Sf Course C Course End Date C Date    19490\n",
       "Sf Course C Final Grade C             24293\n",
       "Sf Opportunity Application Type C     15154\n",
       "Sf Opportunity Program Category       15151\n",
       "Sf Opportunity Program C              15154"
      ]
     },
     "execution_count": 102,
     "metadata": {},
     "output_type": "execute_result"
    }
   ],
   "source": [
    "null_df = pd.DataFrame({'null' : single_table.isnull().sum()})\n",
    "null_df"
   ]
  },
  {
   "cell_type": "markdown",
   "id": "d8a68b17-1cea-4a78-bb4c-f1065bb46695",
   "metadata": {},
   "source": [
    "Export Single Table to CSV File"
   ]
  },
  {
   "cell_type": "code",
   "execution_count": 110,
   "id": "b4124b20-19d7-4904-a824-dd242bf66147",
   "metadata": {},
   "outputs": [],
   "source": [
    "single_table_path = Path('data\\single_table.csv')"
   ]
  },
  {
   "cell_type": "code",
   "execution_count": 111,
   "id": "a056cc3b-582b-48d0-8cae-edb91e44539e",
   "metadata": {},
   "outputs": [],
   "source": [
    "single_table.to_csv(single_table_path)"
   ]
  },
  {
   "cell_type": "markdown",
   "id": "bbeaa3ff-4efb-4ba3-abfa-5a8d5a01b3ab",
   "metadata": {},
   "source": [
    "# Appendix"
   ]
  },
  {
   "cell_type": "markdown",
   "id": "a2213de3-976c-4a84-8f2a-f845e44a16f1",
   "metadata": {},
   "source": [
    "#### See `SQL_QUIERIES.txt` for straight SQL used and `notes.txt` for additional info re analysis."
   ]
  }
 ],
 "metadata": {
  "kernelspec": {
   "display_name": "Python 3 (ipykernel)",
   "language": "python",
   "name": "python3"
  },
  "language_info": {
   "codemirror_mode": {
    "name": "ipython",
    "version": 3
   },
   "file_extension": ".py",
   "mimetype": "text/x-python",
   "name": "python",
   "nbconvert_exporter": "python",
   "pygments_lexer": "ipython3",
   "version": "3.7.11"
  }
 },
 "nbformat": 4,
 "nbformat_minor": 5
}
